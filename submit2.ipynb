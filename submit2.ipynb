{
  "nbformat": 4,
  "nbformat_minor": 5,
  "metadata": {
    "kernelspec": {
      "display_name": "Python 3",
      "language": "python",
      "name": "python3"
    },
    "language_info": {
      "codemirror_mode": {
        "name": "ipython",
        "version": 3
      },
      "file_extension": ".py",
      "mimetype": "text/x-python",
      "name": "python",
      "nbconvert_exporter": "python",
      "pygments_lexer": "ipython3",
      "version": "3.7.10"
    },
    "papermill": {
      "default_parameters": {},
      "duration": 346.121966,
      "end_time": "2021-06-25T22:24:11.045344",
      "environment_variables": {},
      "exception": null,
      "input_path": "__notebook__.ipynb",
      "output_path": "__notebook__.ipynb",
      "parameters": {},
      "start_time": "2021-06-25T22:18:24.923378",
      "version": "2.3.3"
    },
    "colab": {
      "name": "submit2.ipynb",
      "provenance": [],
      "collapsed_sections": [],
      "machine_shape": "hm",
      "include_colab_link": true
    },
    "accelerator": "TPU"
  },
  "cells": [
    {
      "cell_type": "markdown",
      "metadata": {
        "id": "view-in-github",
        "colab_type": "text"
      },
      "source": [
        "<a href=\"https://colab.research.google.com/github/gdollp/kagglebook/blob/master/submit2.ipynb\" target=\"_parent\"><img src=\"https://colab.research.google.com/assets/colab-badge.svg\" alt=\"Open In Colab\"/></a>"
      ]
    },
    {
      "cell_type": "markdown",
      "metadata": {
        "_cell_guid": "b1076dfc-b9ad-4769-8c92-a6c4dae69d19",
        "_uuid": "8f2839f25d086af736a60e9eeb907d3b93b6e0e5",
        "papermill": {
          "duration": 0.024709,
          "end_time": "2021-06-25T22:18:33.032989",
          "exception": false,
          "start_time": "2021-06-25T22:18:33.008280",
          "status": "completed"
        },
        "tags": [],
        "id": "resident-birthday"
      },
      "source": [
        "This notebook uses lightGBM to make predictions.\n",
        "\n",
        "We use the following features\n",
        "* playerId\n",
        "* position\n",
        "* teamId(rosters)\n",
        "* status(rosters)\n",
        "* playerBoxScores\n",
        "\n",
        "and the date 20200401~20200431 as the validation data.\n",
        "\n",
        "But I think there is room for improvement.  \n",
        "If you have better ways, I would appreciate it if you could comment on it.\n",
        "\n",
        "このnotebookではlightGBMを使って予測します。\n",
        "\n",
        "特徴量は以下のものを使用しています。\n",
        "* playerId\n",
        "* position\n",
        "* teamId(rosters)\n",
        "* status(rosters)\n",
        "* playerBoxScores\n",
        "\n",
        "20200401~20200431を日時をvalidation dataとしていますが、一考の余地がありそうです。  \n",
        "もし良さそうな方法があればコメントしていただけると幸いです。"
      ],
      "id": "resident-birthday"
    },
    {
      "cell_type": "markdown",
      "metadata": {
        "papermill": {
          "duration": 0.027024,
          "end_time": "2021-06-25T22:18:33.083611",
          "exception": false,
          "start_time": "2021-06-25T22:18:33.056587",
          "status": "completed"
        },
        "tags": [],
        "id": "vital-water"
      },
      "source": [
        ""
      ],
      "id": "vital-water"
    },
    {
      "cell_type": "markdown",
      "metadata": {
        "papermill": {
          "duration": 0.025051,
          "end_time": "2021-06-25T22:18:33.139292",
          "exception": false,
          "start_time": "2021-06-25T22:18:33.114241",
          "status": "completed"
        },
        "tags": [],
        "id": "operating-thunder"
      },
      "source": [
        "https://www.kaggle.com/columbia2131/mlb-lightgbm-starter-dataset-code-en-ja"
      ],
      "id": "operating-thunder"
    },
    {
      "cell_type": "markdown",
      "metadata": {
        "papermill": {
          "duration": 0.026534,
          "end_time": "2021-06-25T22:18:33.190839",
          "exception": false,
          "start_time": "2021-06-25T22:18:33.164305",
          "status": "completed"
        },
        "tags": [],
        "id": "theoretical-damages"
      },
      "source": [
        "## About Dataset"
      ],
      "id": "theoretical-damages"
    },
    {
      "cell_type": "markdown",
      "metadata": {
        "papermill": {
          "duration": 0.02311,
          "end_time": "2021-06-25T22:18:33.237635",
          "exception": false,
          "start_time": "2021-06-25T22:18:33.214525",
          "status": "completed"
        },
        "tags": [],
        "id": "clinical-cheat"
      },
      "source": [
        "Train.csv is stored as a csv file with each column as follows.  \n",
        "\n",
        "train.csvを以下のようにして各カラムをcsvファイルとして保管しています。"
      ],
      "id": "clinical-cheat"
    },
    {
      "cell_type": "code",
      "metadata": {
        "execution": {
          "iopub.execute_input": "2021-06-25T22:18:33.300733Z",
          "iopub.status.busy": "2021-06-25T22:18:33.299967Z",
          "iopub.status.idle": "2021-06-25T22:18:33.302980Z",
          "shell.execute_reply": "2021-06-25T22:18:33.302209Z",
          "shell.execute_reply.started": "2021-06-25T21:58:13.679983Z"
        },
        "papermill": {
          "duration": 0.042271,
          "end_time": "2021-06-25T22:18:33.303166",
          "exception": false,
          "start_time": "2021-06-25T22:18:33.260895",
          "status": "completed"
        },
        "tags": [],
        "id": "reasonable-assistant"
      },
      "source": [
        "%%capture\n",
        "\"\"\"\n",
        "!pip install pandarallel \n",
        "\n",
        "import gc\n",
        "\n",
        "import numpy as np\n",
        "import pandas as pd\n",
        "from pathlib import Path\n",
        "\n",
        "from pandarallel import pandarallel\n",
        "pandarallel.initialize()\n",
        "\n",
        "BASE_DIR = Path('../input/mlb-player-digital-engagement-forecasting')\n",
        "train = pd.read_csv(BASE_DIR / 'train.csv')\n",
        "\n",
        "null = np.nan\n",
        "true = True\n",
        "false = False\n",
        "\n",
        "for col in train.columns:\n",
        "\n",
        "    if col == 'date': continue\n",
        "\n",
        "    _index = train[col].notnull()\n",
        "    train.loc[_index, col] = train.loc[_index, col].parallel_apply(lambda x: eval(x))\n",
        "\n",
        "    outputs = []\n",
        "    for index, date, record in train.loc[_index, ['date', col]].itertuples():\n",
        "        _df = pd.DataFrame(record)\n",
        "        _df['index'] = index\n",
        "        _df['date'] = date\n",
        "        outputs.append(_df)\n",
        "\n",
        "    outputs = pd.concat(outputs).reset_index(drop=True)\n",
        "\n",
        "    outputs.to_csv(f'{col}_train.csv', index=False)\n",
        "    outputs.to_pickle(f'{col}_train.pkl')\n",
        "\n",
        "    del outputs\n",
        "    del train[col]\n",
        "    gc.collect()\n",
        "\"\"\""
      ],
      "id": "reasonable-assistant",
      "execution_count": 28,
      "outputs": []
    },
    {
      "cell_type": "markdown",
      "metadata": {
        "execution": {
          "iopub.execute_input": "2021-06-16T09:14:33.869905Z",
          "iopub.status.busy": "2021-06-16T09:14:33.869464Z",
          "iopub.status.idle": "2021-06-16T09:14:33.874766Z",
          "shell.execute_reply": "2021-06-16T09:14:33.873097Z",
          "shell.execute_reply.started": "2021-06-16T09:14:33.869879Z"
        },
        "papermill": {
          "duration": 0.025072,
          "end_time": "2021-06-25T22:18:33.352190",
          "exception": false,
          "start_time": "2021-06-25T22:18:33.327118",
          "status": "completed"
        },
        "tags": [],
        "id": "frozen-alfred"
      },
      "source": [
        "## Training"
      ],
      "id": "frozen-alfred"
    },
    {
      "cell_type": "code",
      "metadata": {
        "execution": {
          "iopub.execute_input": "2021-06-25T22:18:33.415350Z",
          "iopub.status.busy": "2021-06-25T22:18:33.414585Z",
          "iopub.status.idle": "2021-06-25T22:18:36.343351Z",
          "shell.execute_reply": "2021-06-25T22:18:36.343900Z",
          "shell.execute_reply.started": "2021-06-25T21:58:13.707952Z"
        },
        "papermill": {
          "duration": 2.967463,
          "end_time": "2021-06-25T22:18:36.344129",
          "exception": false,
          "start_time": "2021-06-25T22:18:33.376666",
          "status": "completed"
        },
        "tags": [],
        "id": "concrete-cruise"
      },
      "source": [
        "import numpy as np\n",
        "import pandas as pd\n",
        "from pathlib import Path\n",
        "from sklearn.metrics import mean_absolute_error\n",
        "from datetime import timedelta\n",
        "from functools import reduce\n",
        "from tqdm import tqdm\n",
        "#import optuna.integration.lightgbm as lgbm\n",
        "import lightgbm as lgbm\n",
        "#import mlb\n",
        "import pickle\n",
        "from datetime import datetime as dt\n",
        "import copy\n",
        "import gc\n",
        "from sklearn.decomposition import PCA\n",
        "import math"
      ],
      "id": "concrete-cruise",
      "execution_count": 29,
      "outputs": []
    },
    {
      "cell_type": "code",
      "metadata": {
        "colab": {
          "base_uri": "https://localhost:8080/"
        },
        "id": "ykU9DkvWXkRB",
        "outputId": "0804893a-e4c4-40e7-82cd-d6b2963c8a56"
      },
      "source": [
        "from google.colab import drive\n",
        "drive.mount('/content/drive')"
      ],
      "id": "ykU9DkvWXkRB",
      "execution_count": 30,
      "outputs": [
        {
          "output_type": "stream",
          "text": [
            "Drive already mounted at /content/drive; to attempt to forcibly remount, call drive.mount(\"/content/drive\", force_remount=True).\n"
          ],
          "name": "stdout"
        }
      ]
    },
    {
      "cell_type": "code",
      "metadata": {
        "execution": {
          "iopub.execute_input": "2021-06-25T22:18:36.397396Z",
          "iopub.status.busy": "2021-06-25T22:18:36.396731Z",
          "iopub.status.idle": "2021-06-25T22:18:36.401367Z",
          "shell.execute_reply": "2021-06-25T22:18:36.400852Z",
          "shell.execute_reply.started": "2021-06-25T21:58:16.647196Z"
        },
        "papermill": {
          "duration": 0.032131,
          "end_time": "2021-06-25T22:18:36.401524",
          "exception": false,
          "start_time": "2021-06-25T22:18:36.369393",
          "status": "completed"
        },
        "tags": [],
        "id": "declared-principal"
      },
      "source": [
        "BASE_DIR = Path('/content/drive/MyDrive/mlb/input')\n",
        "TRAIN_DIR = Path('/content/drive/MyDrive/mlb/input/archive')"
      ],
      "id": "declared-principal",
      "execution_count": 31,
      "outputs": []
    },
    {
      "cell_type": "code",
      "metadata": {
        "execution": {
          "iopub.execute_input": "2021-06-25T22:18:36.461288Z",
          "iopub.status.busy": "2021-06-25T22:18:36.460608Z",
          "iopub.status.idle": "2021-06-25T22:18:55.337941Z",
          "shell.execute_reply": "2021-06-25T22:18:55.336912Z",
          "shell.execute_reply.started": "2021-06-25T21:58:16.654219Z"
        },
        "papermill": {
          "duration": 18.911828,
          "end_time": "2021-06-25T22:18:55.338134",
          "exception": false,
          "start_time": "2021-06-25T22:18:36.426306",
          "status": "completed"
        },
        "tags": [],
        "id": "tough-launch"
      },
      "source": [
        "players = pd.read_csv(BASE_DIR / 'players.csv')\n",
        "\n",
        "rosters = pd.read_pickle(TRAIN_DIR / 'rosters_train.pkl')\n",
        "targets = pd.read_pickle(TRAIN_DIR / 'nextDayPlayerEngagement_train.pkl')\n",
        "scores1 = pd.read_pickle(TRAIN_DIR / 'playerBoxScores_train.pkl')\n",
        "scores = scores1.groupby(['playerId', 'date']).sum().reset_index()\n",
        "twitter = pd.read_pickle(\"/content/drive/MyDrive/mlb/input/archive/playerTwitterFollowers_train.pkl\")\n",
        "games = pd.read_pickle(TRAIN_DIR / 'games_train.pkl')\n",
        "events = pd.read_pickle(TRAIN_DIR / 'events_train.pkl')\n",
        "standings = pd.read_pickle(TRAIN_DIR / 'standings_train.pkl')\n",
        "teamtwitter = pd.read_pickle(TRAIN_DIR / 'teamTwitterFollowers_train.pkl')\n",
        "transaction = pd.read_pickle(TRAIN_DIR / 'teamTwitterFollowers_train.pkl')\n",
        "awards = pd.read_csv(BASE_DIR / 'awards.csv')\n",
        "seasons = pd.read_csv(BASE_DIR / 'seasons.csv')\n",
        "teams = pd.read_csv(BASE_DIR / 'teams.csv')\n",
        "player_target_stats = pd.read_csv(\"/content/drive/MyDrive/mlb/input/player_target_stats.csv\")\n",
        "from sklearn.model_selection import KFold"
      ],
      "id": "tough-launch",
      "execution_count": 32,
      "outputs": []
    },
    {
      "cell_type": "code",
      "metadata": {
        "id": "4BRMq9l8YfYI"
      },
      "source": [
        ""
      ],
      "id": "4BRMq9l8YfYI",
      "execution_count": 32,
      "outputs": []
    },
    {
      "cell_type": "code",
      "metadata": {
        "execution": {
          "iopub.execute_input": "2021-06-25T22:18:55.398266Z",
          "iopub.status.busy": "2021-06-25T22:18:55.397258Z",
          "iopub.status.idle": "2021-06-25T22:18:55.429108Z",
          "shell.execute_reply": "2021-06-25T22:18:55.428347Z",
          "shell.execute_reply.started": "2021-06-25T21:58:36.71955Z"
        },
        "papermill": {
          "duration": 0.065838,
          "end_time": "2021-06-25T22:18:55.429265",
          "exception": false,
          "start_time": "2021-06-25T22:18:55.363427",
          "status": "completed"
        },
        "tags": [],
        "id": "joined-traffic"
      },
      "source": [
        "awards2 = awards.groupby(\"playerId\").count()\n",
        "awards2 = awards2.reset_index()"
      ],
      "id": "joined-traffic",
      "execution_count": 33,
      "outputs": []
    },
    {
      "cell_type": "code",
      "metadata": {
        "id": "dRXO92-ROJ2_",
        "colab": {
          "base_uri": "https://localhost:8080/",
          "height": 979
        },
        "outputId": "dd0870be-b280-496d-d4ce-046bad51d290"
      },
      "source": [
        "teamtwitter[\"teamnumberOfFollowers\"] = teamtwitter[\"numberOfFollowers\"]\n",
        "teamtwi = teamtwitter.groupby(\"teamId\").mean()[\"teamnumberOfFollowers\"].reset_index()\n",
        "teamtwi"
      ],
      "id": "dRXO92-ROJ2_",
      "execution_count": 34,
      "outputs": [
        {
          "output_type": "execute_result",
          "data": {
            "text/html": [
              "<div>\n",
              "<style scoped>\n",
              "    .dataframe tbody tr th:only-of-type {\n",
              "        vertical-align: middle;\n",
              "    }\n",
              "\n",
              "    .dataframe tbody tr th {\n",
              "        vertical-align: top;\n",
              "    }\n",
              "\n",
              "    .dataframe thead th {\n",
              "        text-align: right;\n",
              "    }\n",
              "</style>\n",
              "<table border=\"1\" class=\"dataframe\">\n",
              "  <thead>\n",
              "    <tr style=\"text-align: right;\">\n",
              "      <th></th>\n",
              "      <th>teamId</th>\n",
              "      <th>teamnumberOfFollowers</th>\n",
              "    </tr>\n",
              "  </thead>\n",
              "  <tbody>\n",
              "    <tr>\n",
              "      <th>0</th>\n",
              "      <td>108</td>\n",
              "      <td>1081524.075</td>\n",
              "    </tr>\n",
              "    <tr>\n",
              "      <th>1</th>\n",
              "      <td>109</td>\n",
              "      <td>582019.500</td>\n",
              "    </tr>\n",
              "    <tr>\n",
              "      <th>2</th>\n",
              "      <td>110</td>\n",
              "      <td>785074.300</td>\n",
              "    </tr>\n",
              "    <tr>\n",
              "      <th>3</th>\n",
              "      <td>111</td>\n",
              "      <td>2086901.925</td>\n",
              "    </tr>\n",
              "    <tr>\n",
              "      <th>4</th>\n",
              "      <td>112</td>\n",
              "      <td>2535440.475</td>\n",
              "    </tr>\n",
              "    <tr>\n",
              "      <th>5</th>\n",
              "      <td>113</td>\n",
              "      <td>845282.300</td>\n",
              "    </tr>\n",
              "    <tr>\n",
              "      <th>6</th>\n",
              "      <td>114</td>\n",
              "      <td>1043174.525</td>\n",
              "    </tr>\n",
              "    <tr>\n",
              "      <th>7</th>\n",
              "      <td>115</td>\n",
              "      <td>561606.025</td>\n",
              "    </tr>\n",
              "    <tr>\n",
              "      <th>8</th>\n",
              "      <td>116</td>\n",
              "      <td>1446103.775</td>\n",
              "    </tr>\n",
              "    <tr>\n",
              "      <th>9</th>\n",
              "      <td>117</td>\n",
              "      <td>1480179.525</td>\n",
              "    </tr>\n",
              "    <tr>\n",
              "      <th>10</th>\n",
              "      <td>118</td>\n",
              "      <td>1050532.325</td>\n",
              "    </tr>\n",
              "    <tr>\n",
              "      <th>11</th>\n",
              "      <td>119</td>\n",
              "      <td>2137878.100</td>\n",
              "    </tr>\n",
              "    <tr>\n",
              "      <th>12</th>\n",
              "      <td>120</td>\n",
              "      <td>727791.025</td>\n",
              "    </tr>\n",
              "    <tr>\n",
              "      <th>13</th>\n",
              "      <td>121</td>\n",
              "      <td>1059640.225</td>\n",
              "    </tr>\n",
              "    <tr>\n",
              "      <th>14</th>\n",
              "      <td>133</td>\n",
              "      <td>555115.825</td>\n",
              "    </tr>\n",
              "    <tr>\n",
              "      <th>15</th>\n",
              "      <td>134</td>\n",
              "      <td>741592.800</td>\n",
              "    </tr>\n",
              "    <tr>\n",
              "      <th>16</th>\n",
              "      <td>135</td>\n",
              "      <td>408210.000</td>\n",
              "    </tr>\n",
              "    <tr>\n",
              "      <th>17</th>\n",
              "      <td>136</td>\n",
              "      <td>555318.650</td>\n",
              "    </tr>\n",
              "    <tr>\n",
              "      <th>18</th>\n",
              "      <td>137</td>\n",
              "      <td>1768349.300</td>\n",
              "    </tr>\n",
              "    <tr>\n",
              "      <th>19</th>\n",
              "      <td>138</td>\n",
              "      <td>1218797.450</td>\n",
              "    </tr>\n",
              "    <tr>\n",
              "      <th>20</th>\n",
              "      <td>139</td>\n",
              "      <td>562344.750</td>\n",
              "    </tr>\n",
              "    <tr>\n",
              "      <th>21</th>\n",
              "      <td>140</td>\n",
              "      <td>1422032.000</td>\n",
              "    </tr>\n",
              "    <tr>\n",
              "      <th>22</th>\n",
              "      <td>141</td>\n",
              "      <td>2248342.800</td>\n",
              "    </tr>\n",
              "    <tr>\n",
              "      <th>23</th>\n",
              "      <td>142</td>\n",
              "      <td>626588.200</td>\n",
              "    </tr>\n",
              "    <tr>\n",
              "      <th>24</th>\n",
              "      <td>143</td>\n",
              "      <td>1826185.775</td>\n",
              "    </tr>\n",
              "    <tr>\n",
              "      <th>25</th>\n",
              "      <td>144</td>\n",
              "      <td>1279225.350</td>\n",
              "    </tr>\n",
              "    <tr>\n",
              "      <th>26</th>\n",
              "      <td>145</td>\n",
              "      <td>918059.400</td>\n",
              "    </tr>\n",
              "    <tr>\n",
              "      <th>27</th>\n",
              "      <td>146</td>\n",
              "      <td>339405.700</td>\n",
              "    </tr>\n",
              "    <tr>\n",
              "      <th>28</th>\n",
              "      <td>147</td>\n",
              "      <td>3399726.125</td>\n",
              "    </tr>\n",
              "    <tr>\n",
              "      <th>29</th>\n",
              "      <td>158</td>\n",
              "      <td>600634.600</td>\n",
              "    </tr>\n",
              "  </tbody>\n",
              "</table>\n",
              "</div>"
            ],
            "text/plain": [
              "    teamId  teamnumberOfFollowers\n",
              "0      108            1081524.075\n",
              "1      109             582019.500\n",
              "2      110             785074.300\n",
              "3      111            2086901.925\n",
              "4      112            2535440.475\n",
              "5      113             845282.300\n",
              "6      114            1043174.525\n",
              "7      115             561606.025\n",
              "8      116            1446103.775\n",
              "9      117            1480179.525\n",
              "10     118            1050532.325\n",
              "11     119            2137878.100\n",
              "12     120             727791.025\n",
              "13     121            1059640.225\n",
              "14     133             555115.825\n",
              "15     134             741592.800\n",
              "16     135             408210.000\n",
              "17     136             555318.650\n",
              "18     137            1768349.300\n",
              "19     138            1218797.450\n",
              "20     139             562344.750\n",
              "21     140            1422032.000\n",
              "22     141            2248342.800\n",
              "23     142             626588.200\n",
              "24     143            1826185.775\n",
              "25     144            1279225.350\n",
              "26     145             918059.400\n",
              "27     146             339405.700\n",
              "28     147            3399726.125\n",
              "29     158             600634.600"
            ]
          },
          "metadata": {
            "tags": []
          },
          "execution_count": 34
        }
      ]
    },
    {
      "cell_type": "code",
      "metadata": {
        "execution": {
          "iopub.execute_input": "2021-06-25T22:18:55.485487Z",
          "iopub.status.busy": "2021-06-25T22:18:55.484858Z",
          "iopub.status.idle": "2021-06-25T22:18:55.559589Z",
          "shell.execute_reply": "2021-06-25T22:18:55.560093Z",
          "shell.execute_reply.started": "2021-06-25T21:58:36.751087Z"
        },
        "papermill": {
          "duration": 0.105303,
          "end_time": "2021-06-25T22:18:55.560260",
          "exception": false,
          "start_time": "2021-06-25T22:18:55.454957",
          "status": "completed"
        },
        "tags": [],
        "id": "saved-assignment"
      },
      "source": [
        "games = pd.read_pickle(TRAIN_DIR / 'games_train.pkl')\n",
        "#games.index[games[\"detailedGameState\"] == \"Postponed\"].shape\n",
        "#games.drop(games.loc[games['detailedGameState']=='Postponed'].index, inplace=True)\n",
        "#games[\"detailedGameState\"].unique()\n",
        "#games[games.duplicated(subset=[\"gamePk\"], keep=False)]\n",
        "#games['detailedGameState']=='Postponed']だとスコアはキロクされていない"
      ],
      "id": "saved-assignment",
      "execution_count": 35,
      "outputs": []
    },
    {
      "cell_type": "code",
      "metadata": {
        "id": "s5mtlhAlBjJw",
        "colab": {
          "base_uri": "https://localhost:8080/"
        },
        "outputId": "437a52a2-2b09-47c4-fc5c-29146208b549"
      },
      "source": [
        "targets[\"engagementMetricsDate\"] = targets[\"engagementMetricsDate\"].str.replace('-', '')\n",
        "yesterday_targets = targets.drop('date', axis=1)\n",
        "yesterday_targets = yesterday_targets.rename(columns={'engagementMetricsDate':'date', 'target1': 'yest_target1','target2': 'yest_target2','target3': 'yest_target3','target4': 'yest_target4'})\n",
        "yesterday_targets[\"date\"] = yesterday_targets[\"date\"].astype(int)\n",
        "yesterday_targets[\"date\"]"
      ],
      "id": "s5mtlhAlBjJw",
      "execution_count": 36,
      "outputs": [
        {
          "output_type": "execute_result",
          "data": {
            "text/plain": [
              "0          20180102\n",
              "1          20180102\n",
              "2          20180102\n",
              "3          20180102\n",
              "4          20180102\n",
              "             ...   \n",
              "2506171    20210501\n",
              "2506172    20210501\n",
              "2506173    20210501\n",
              "2506174    20210501\n",
              "2506175    20210501\n",
              "Name: date, Length: 2506176, dtype: int64"
            ]
          },
          "metadata": {
            "tags": []
          },
          "execution_count": 36
        }
      ]
    },
    {
      "cell_type": "code",
      "metadata": {
        "execution": {
          "iopub.execute_input": "2021-06-25T22:18:55.632341Z",
          "iopub.status.busy": "2021-06-25T22:18:55.627171Z",
          "iopub.status.idle": "2021-06-25T22:18:55.643964Z",
          "shell.execute_reply": "2021-06-25T22:18:55.643410Z",
          "shell.execute_reply.started": "2021-06-25T21:58:36.823884Z"
        },
        "papermill": {
          "duration": 0.057355,
          "end_time": "2021-06-25T22:18:55.644109",
          "exception": false,
          "start_time": "2021-06-25T22:18:55.586754",
          "status": "completed"
        },
        "tags": [],
        "id": "public-calgary"
      },
      "source": [
        ""
      ],
      "id": "public-calgary",
      "execution_count": 36,
      "outputs": []
    },
    {
      "cell_type": "code",
      "metadata": {
        "id": "a6v4Y4rYUHIW"
      },
      "source": [
        "\n",
        "feature_cols = ['label_playerId', 'label_primaryPositionName', 'label_teamId',\n",
        "       'label_status', 'battingOrder', 'gamesPlayedBatting', 'flyOuts',\n",
        "       'groundOuts', 'runsScored','homeRuns',\n",
        "       'strikeOuts', 'baseOnBalls',  'hits', 'hitByPitch',\n",
        "       'atBats', 'stolenBases', \n",
        "       'plateAppearances', 'totalBases', 'rbi',\n",
        "       'leftOnBase', 'sacFlies',\n",
        "       'gamesPlayedPitching', 'gamesStartedPitching',\n",
        "       'completeGamesPitching','winsPitching',\n",
        "       'lossesPitching', 'flyOutsPitching', 'airOutsPitching',\n",
        "       'groundOutsPitching', 'runsPitching', 'doublesPitching',\n",
        "       'triplesPitching', 'homeRunsPitching', 'strikeOutsPitching',\n",
        "       'baseOnBallsPitching',  'hitsPitching',\n",
        "       'hitByPitchPitching', 'atBatsPitching', 'caughtStealingPitching',\n",
        "       'stolenBasesPitching', 'inningsPitched', 'saveOpportunities',\n",
        "       'earnedRuns', 'battersFaced', 'outsPitching', 'pitchesThrown', 'balls',\n",
        "       'strikes', 'hitBatsmen', 'balks', 'wildPitches', 'pickoffsPitching',\n",
        "       'rbiPitching', 'gamesFinishedPitching', 'inheritedRunners',\n",
        "       'inheritedRunnersScored',\n",
        "       'sacFliesPitching', 'saves', 'holds',\n",
        "       'assists', 'putOuts', 'errors', 'chances','target1_mean',\n",
        " 'target1_median',\n",
        " 'target1_std',\n",
        " 'target1_min',\n",
        " 'target1_max',\n",
        " 'target1_prob',\n",
        " 'target2_mean',\n",
        " 'target2_median',\n",
        " 'target2_std',\n",
        " 'target2_min',\n",
        " 'target2_max',\n",
        " 'target2_prob',\n",
        " 'target3_mean',\n",
        " 'target3_median',\n",
        " 'target3_std',\n",
        " 'target3_min',\n",
        " 'target3_max',\n",
        " 'target3_prob',\n",
        " 'target4_mean',\n",
        " 'target4_median',\n",
        " 'target4_std',\n",
        " 'target4_min',\n",
        " 'target4_max',\n",
        " 'target4_prob',\"divisionId\",\"teamnumberOfFollowers\"]\n",
        "feature_cols2 = ['label_playerId', 'label_primaryPositionName', 'label_teamId',\n",
        "       'label_status', 'battingOrder', 'gamesPlayedBatting', 'flyOuts',\n",
        "       'groundOuts', 'runsScored',# 'doubles', 'triples', 'homeRuns',\n",
        "       'baseOnBalls', 'hits',\n",
        "      # 'atBats', 'caughtStealing', 'stolenBases', 'groundIntoDoublePlay',\n",
        "       'plateAppearances', 'totalBases', 'rbi',\n",
        "      # 'leftOnBase', 'sacBunts', 'sacFlies', 'catchersInterference',\n",
        "       'pickoffs', 'gamesPlayedPitching', 'gamesStartedPitching',\n",
        "       'winsPitching',\n",
        "       'lossesPitching',# 'flyOutsPitching', 'airOutsPitching',\n",
        "       'runsPitching', \n",
        "       'strikeOutsPitching',\n",
        "       #'hitsPitching',\n",
        "       'hitByPitchPitching',  'caughtStealingPitching',\n",
        "       'stolenBasesPitching', 'inningsPitched',\n",
        "        'battersFaced', \n",
        "        'balks', 'pickoffsPitching',\n",
        "        'inheritedRunners',\n",
        "        \n",
        "       #'sacBuntsPitching', 'sacFliesPitching', 'saves', 'holds', 'blownSaves',\n",
        "       'putOuts','chances','target1_mean',\n",
        " 'target1_median',\n",
        " 'target1_std',\n",
        " 'target1_min',\n",
        " 'target1_max',\n",
        " 'target1_prob',\n",
        " 'target2_mean',\n",
        " 'target2_median',\n",
        " 'target2_std',\n",
        " 'target2_min',\n",
        " 'target2_max',\n",
        " 'target2_prob',\n",
        " 'target3_mean',\n",
        " 'target3_median',\n",
        " 'target3_std',\n",
        " 'target3_min',\n",
        " 'target3_max',\n",
        " 'target3_prob',\n",
        " 'target4_mean',\n",
        " 'target4_median',\n",
        " 'target4_std',\n",
        " 'target4_min',\n",
        " 'target4_max',\n",
        " 'target4_prob',\n",
        "    'target1',\"divisionId\",\"teamnumberOfFollowers\"]\n",
        "feature_cols3 = ['label_playerId', 'label_primaryPositionName', 'label_teamId',\n",
        "       'label_status', #'gamesPlayedBatting', 'flyOuts',\n",
        "        'homeRuns',\n",
        "      # 'strikeOuts', 'baseOnBalls', 'intentionalWalks', 'hits', 'hitByPitch',\n",
        "     # 'atBats', 'caughtStealing', 'stolenBases', 'groundIntoDoublePlay',\n",
        "        'totalBases', 'rbi',\n",
        "      # 'leftOnBase', 'sacBunts', 'sacFlies', 'catchersInterference',\n",
        "        'gamesStartedPitching',\n",
        "      # 'completeGamesPitching', 'shutoutsPitching', 'winsPitching',\n",
        "       'lossesPitching', \n",
        "      # 'groundOutsPitching', 'runsPitching', 'doublesPitching',\n",
        "      # 'triplesPitching', 'homeRunsPitching', 'strikeOutsPitching',\n",
        "       #'baseOnBallsPitching', 'intentionalWalksPitching', 'hitsPitching',\n",
        "       #'hitByPitchPitching', 'atBatsPitching', 'caughtStealingPitching',\n",
        "       'inningsPitched', \n",
        "        'battersFaced', 'pitchesThrown', \n",
        "      # 'strikes', 'hitBatsmen', 'balks', 'wildPitches', 'pickoffsPitching',\n",
        "      # 'rbiPitching', 'gamesFinishedPitching', 'inheritedRunners',\n",
        "       #'inheritedRunnersScored', 'catchersInterferencePitching',\n",
        "       #'sacBuntsPitching', 'sacFliesPitching', 'saves', 'holds', 'blownSaves',\n",
        "      # 'assists', 'putOuts', 'errors', 'chances',\n",
        "      'target1_mean',\n",
        " 'target1_median',\n",
        " 'target1_std',\n",
        " 'target1_min',\n",
        " 'target1_max',\n",
        " 'target1_prob',\n",
        " 'target2_mean',\n",
        " 'target2_median',\n",
        " 'target2_std',\n",
        " 'target2_min',\n",
        " 'target2_max',\n",
        " 'target2_prob',\n",
        " 'target3_mean',\n",
        " 'target3_median',\n",
        " 'target3_std',\n",
        " 'target3_min',\n",
        " 'target3_max',\n",
        " 'target3_prob',\n",
        " 'target4_mean',\n",
        " 'target4_median',\n",
        " 'target4_std',\n",
        " 'target4_min',\n",
        " 'target4_max',\n",
        " 'target4_prob',\n",
        "    'target1',\"divisionId\",\"target2\",\"teamnumberOfFollowers\"]\n",
        "feature_cols4 = ['label_playerId', 'label_primaryPositionName', 'label_teamId',\n",
        "       'label_status', 'battingOrder', 'gamesPlayedBatting', 'flyOuts',\n",
        "        'runsScored','triples','groundIntoDoublePlay',\n",
        "       'strikeOuts', 'baseOnBalls','hits', \n",
        "       'atBats', 'caughtStealing',\n",
        "       'plateAppearances', 'totalBases', 'rbi',\n",
        "       'leftOnBase', 'sacBunts', 'sacFlies',\n",
        "        'gamesPlayedPitching',\n",
        "        'winsPitching',\n",
        "       'airOutsPitching',\n",
        "       'runsPitching', 'doublesPitching',\n",
        "       'triplesPitching', 'homeRunsPitching', 'strikeOutsPitching',\n",
        "        'intentionalWalksPitching', 'hitsPitching',\n",
        "       'hitByPitchPitching', 'atBatsPitching', \n",
        "        'inningsPitched', 'saveOpportunities',\n",
        "       'battersFaced', 'outsPitching', 'pitchesThrown', 'balls',\n",
        "       'strikes','wildPitches', \n",
        "       'rbiPitching', 'gamesFinishedPitching', 'inheritedRunners',\n",
        "       'inheritedRunnersScored', \n",
        "       'sacBuntsPitching', 'holds', 'blownSaves',\n",
        "       'assists', 'putOuts', 'errors', 'chances','target1_mean',\n",
        " 'target1_median',\n",
        " 'target1_std',\n",
        " 'target1_min',\n",
        " 'target1_max',\n",
        " 'target1_prob',\n",
        " 'target2_mean',\n",
        " 'target2_median',\n",
        " 'target2_std',\n",
        " 'target2_min',\n",
        " 'target2_max',\n",
        " 'target2_prob',\n",
        " 'target3_mean',\n",
        " 'target3_median',\n",
        " 'target3_std',\n",
        " 'target3_min',\n",
        " 'target3_max',\n",
        " 'target3_prob',\n",
        " 'target4_mean',\n",
        " 'target4_median',\n",
        " 'target4_std',\n",
        " 'target4_min',\n",
        " 'target4_max',\n",
        " 'target4_prob',\n",
        " 'target1', \"divisionId\",\"target2\",\"target3\",\"teamnumberOfFollowers\"]"
      ],
      "id": "a6v4Y4rYUHIW",
      "execution_count": 37,
      "outputs": []
    },
    {
      "cell_type": "code",
      "metadata": {
        "id": "rLsgwYTOi0a3"
      },
      "source": [
        "targets_cols = ['playerId', 'target1', 'target2', 'target3', 'target4','hasTwitterAccount','date']\n",
        "yesterday_targets_cols = [\"date\",\"playerId\",\"yest_target1\",\"yest_target2\",\"yest_target3\",\"yest_target4\"]\n",
        "players_cols = ['playerId', 'primaryPositionName',\"birthCountry\",\"primaryPositionCode\"]\n",
        "rosters_cols = ['playerId', 'teamId', 'status', 'date']\n",
        "scores_cols = ['playerId', 'battingOrder', 'gamesPlayedBatting', 'flyOuts',\n",
        "       'groundOuts', 'runsScored', 'doubles', 'triples', 'homeRuns',\n",
        "       'strikeOuts', 'baseOnBalls', 'intentionalWalks', 'hits', 'hitByPitch',\n",
        "       'atBats', 'caughtStealing', 'stolenBases', 'groundIntoDoublePlay',\n",
        "       'groundIntoTriplePlay', 'plateAppearances', 'totalBases', 'rbi',\n",
        "       'leftOnBase', 'sacBunts', 'sacFlies', 'catchersInterference',\n",
        "       'pickoffs', 'gamesPlayedPitching', 'gamesStartedPitching',\n",
        "       'completeGamesPitching', 'shutoutsPitching', 'winsPitching',\n",
        "       'lossesPitching', 'flyOutsPitching', 'airOutsPitching',\n",
        "       'groundOutsPitching', 'runsPitching', 'doublesPitching',\n",
        "       'triplesPitching', 'homeRunsPitching', 'strikeOutsPitching',\n",
        "       'baseOnBallsPitching', 'intentionalWalksPitching', 'hitsPitching',\n",
        "       'hitByPitchPitching', 'atBatsPitching', 'caughtStealingPitching',\n",
        "       'stolenBasesPitching', 'inningsPitched', 'saveOpportunities',\n",
        "       'earnedRuns', 'battersFaced', 'outsPitching', 'pitchesThrown', 'balls',\n",
        "       'strikes', 'hitBatsmen', 'balks', 'wildPitches', 'pickoffsPitching',\n",
        "       'rbiPitching', 'gamesFinishedPitching', 'inheritedRunners',\n",
        "       'inheritedRunnersScored', 'catchersInterferencePitching',\n",
        "       'sacBuntsPitching', 'sacFliesPitching', 'saves', 'holds', 'blownSaves',\n",
        "       'assists', 'putOuts', 'errors', 'chances', 'date',\"gamePk\"]\n",
        "games_cols = [\"gamePk\",\"homeId\",\"dayNight\",\"seriesDescription\",\"gamesInSeries\",\"homeWinner\",\"awayWinner\",\"homeScore\",\"awayScore\",\"gameType\"]\n",
        "playertwitter_cols = [\"playerId\",\"numberOfFollowers\",\"year_months\"]\n",
        "awards_cols = [\"playerId\",\"awardName\"]\n",
        "standings_cols = [\"date\",\"teamId\",\"divisionRank\",\"divisionLeader\",\"wildCardLeader\",\"leagueRank\",\"divisionId\",\"gameDate\"]\n",
        "teamtwitter_cols = [\"teamId\",\"teamnumberOfFollowers\"]\n"
      ],
      "id": "rLsgwYTOi0a3",
      "execution_count": 38,
      "outputs": []
    },
    {
      "cell_type": "code",
      "metadata": {
        "id": "O9cuWOG2Gl-q"
      },
      "source": [
        ""
      ],
      "id": "O9cuWOG2Gl-q",
      "execution_count": 38,
      "outputs": []
    },
    {
      "cell_type": "code",
      "metadata": {
        "id": "e-haSgyI78O6"
      },
      "source": [
        "twitter[\"strdate\"] = twitter[\"date\"].astype(str)\n",
        "twitter[\"year_months\"] = twitter[\"strdate\"].str[0:6].astype(int)\n"
      ],
      "id": "e-haSgyI78O6",
      "execution_count": 39,
      "outputs": []
    },
    {
      "cell_type": "code",
      "metadata": {
        "id": "HyLf8gpubQJA"
      },
      "source": [
        "targets['hasTwitterAccount'] = targets.playerId.isin(twitter.playerId)"
      ],
      "id": "HyLf8gpubQJA",
      "execution_count": 40,
      "outputs": []
    },
    {
      "cell_type": "code",
      "metadata": {
        "execution": {
          "iopub.execute_input": "2021-06-25T22:18:55.703085Z",
          "iopub.status.busy": "2021-06-25T22:18:55.702455Z",
          "iopub.status.idle": "2021-06-25T22:19:05.117538Z",
          "shell.execute_reply": "2021-06-25T22:19:05.116598Z",
          "shell.execute_reply.started": "2021-06-25T21:58:36.852876Z"
        },
        "papermill": {
          "duration": 9.448263,
          "end_time": "2021-06-25T22:19:05.117741",
          "exception": false,
          "start_time": "2021-06-25T22:18:55.669478",
          "status": "completed"
        },
        "tags": [],
        "id": "unauthorized-stretch"
      },
      "source": [
        "train = targets[targets_cols].merge(players[players_cols], on=['playerId'], how='left')\n",
        "train = train.merge(rosters[rosters_cols], on=['playerId', 'date'], how='left')\n",
        "train = train.merge(scores[scores_cols], on=['playerId', 'date'], how='left')\n",
        "train = train.merge(games[games_cols], on=[\"gamePk\"], how=\"left\")\n",
        "train = train.merge(standings[standings_cols], on=['date',\"teamId\"], how='left')\n",
        "train = train.merge(awards2[awards_cols], on=['playerId'], how='left')\n",
        "train = train.merge(player_target_stats, how='inner', left_on=[\"playerId\"],right_on=[\"playerId\"])\n",
        "train[\"strdate\"] = train[\"date\"].astype(str)\n",
        "train[\"year_months\"] = train[\"strdate\"].str[0:6].astype(int)\n",
        "train = train.merge(twitter[playertwitter_cols], on=['playerId',\"year_months\"], how='left')\n",
        "\n",
        "\n"
      ],
      "id": "unauthorized-stretch",
      "execution_count": 41,
      "outputs": []
    },
    {
      "cell_type": "code",
      "metadata": {
        "id": "mVHPPnE8GSqG"
      },
      "source": [
        "targets['hasTwitterAccount'] = targets.playerId.isin(twitter.playerId)"
      ],
      "id": "mVHPPnE8GSqG",
      "execution_count": 42,
      "outputs": []
    },
    {
      "cell_type": "code",
      "metadata": {
        "id": "iCSDWeWFAPc9"
      },
      "source": [
        "#make feature\n",
        "train[\"allstar\"] = np.where((train[\"date\"]==20170711)|(train[\"date\"]==20180717)|train[\"date\"]==20190709,1,0)\n",
        "train[\"regularseason\"] = np.where(((20171002>train[\"date\"])&(train[\"date\"]>20170401))|\n",
        "                                  ((20181002>train[\"date\"])&(train[\"date\"]>20180328))|\n",
        "                                   ((20190930>train[\"date\"])&(train[\"date\"]>20190319))|\n",
        "                                    ((20200928>train[\"date\"])&(train[\"date\"]>20200722))|\n",
        "                                     ((20211004>train[\"date\"])&(train[\"date\"]>20210330)),1,0)\n"
      ],
      "id": "iCSDWeWFAPc9",
      "execution_count": 43,
      "outputs": []
    },
    {
      "cell_type": "code",
      "metadata": {
        "id": "4nTLjBWC6hki",
        "colab": {
          "base_uri": "https://localhost:8080/",
          "height": 317
        },
        "outputId": "f6454832-168e-45a4-c88d-3128a047c0e8"
      },
      "source": [
        "train[['target1_mean',\n",
        " 'target1_median',\n",
        " 'target1_std',\n",
        " 'target1_min',\n",
        " 'target1_max',\n",
        " 'target1_prob',\n",
        " 'target2_mean',\n",
        " 'target2_median',\n",
        " 'target2_std',\n",
        " 'target2_min',\n",
        " 'target2_max',\n",
        " 'target2_prob',\n",
        " 'target3_mean',\n",
        " 'target3_median',\n",
        " 'target3_std',\n",
        " 'target3_min',\n",
        " 'target3_max',\n",
        " 'target3_prob',\n",
        " 'target4_mean',\n",
        " 'target4_median',\n",
        " 'target4_std',\n",
        " 'target4_min',\n",
        " 'target4_max',\n",
        " 'target4_prob',\n",
        "    'target1',\"divisionId\",\"target2\",\"target3\"]].describe()"
      ],
      "id": "4nTLjBWC6hki",
      "execution_count": 44,
      "outputs": [
        {
          "output_type": "execute_result",
          "data": {
            "text/html": [
              "<div>\n",
              "<style scoped>\n",
              "    .dataframe tbody tr th:only-of-type {\n",
              "        vertical-align: middle;\n",
              "    }\n",
              "\n",
              "    .dataframe tbody tr th {\n",
              "        vertical-align: top;\n",
              "    }\n",
              "\n",
              "    .dataframe thead th {\n",
              "        text-align: right;\n",
              "    }\n",
              "</style>\n",
              "<table border=\"1\" class=\"dataframe\">\n",
              "  <thead>\n",
              "    <tr style=\"text-align: right;\">\n",
              "      <th></th>\n",
              "      <th>target1_mean</th>\n",
              "      <th>target1_median</th>\n",
              "      <th>target1_std</th>\n",
              "      <th>target1_min</th>\n",
              "      <th>target1_max</th>\n",
              "      <th>target1_prob</th>\n",
              "      <th>target2_mean</th>\n",
              "      <th>target2_median</th>\n",
              "      <th>target2_std</th>\n",
              "      <th>target2_min</th>\n",
              "      <th>target2_max</th>\n",
              "      <th>target2_prob</th>\n",
              "      <th>target3_mean</th>\n",
              "      <th>target3_median</th>\n",
              "      <th>target3_std</th>\n",
              "      <th>target3_min</th>\n",
              "      <th>target3_max</th>\n",
              "      <th>target3_prob</th>\n",
              "      <th>target4_mean</th>\n",
              "      <th>target4_median</th>\n",
              "      <th>target4_std</th>\n",
              "      <th>target4_min</th>\n",
              "      <th>target4_max</th>\n",
              "      <th>target4_prob</th>\n",
              "      <th>target1</th>\n",
              "      <th>divisionId</th>\n",
              "      <th>target2</th>\n",
              "      <th>target3</th>\n",
              "    </tr>\n",
              "  </thead>\n",
              "  <tbody>\n",
              "    <tr>\n",
              "      <th>count</th>\n",
              "      <td>2.508784e+06</td>\n",
              "      <td>2.508784e+06</td>\n",
              "      <td>2.508784e+06</td>\n",
              "      <td>2.508784e+06</td>\n",
              "      <td>2.508784e+06</td>\n",
              "      <td>2.508784e+06</td>\n",
              "      <td>2.508784e+06</td>\n",
              "      <td>2.508784e+06</td>\n",
              "      <td>2.508784e+06</td>\n",
              "      <td>2.508784e+06</td>\n",
              "      <td>2.508784e+06</td>\n",
              "      <td>2.508784e+06</td>\n",
              "      <td>2.508784e+06</td>\n",
              "      <td>2.508784e+06</td>\n",
              "      <td>2.508784e+06</td>\n",
              "      <td>2.508784e+06</td>\n",
              "      <td>2.508784e+06</td>\n",
              "      <td>2.508784e+06</td>\n",
              "      <td>2.508784e+06</td>\n",
              "      <td>2.508784e+06</td>\n",
              "      <td>2.508784e+06</td>\n",
              "      <td>2.508784e+06</td>\n",
              "      <td>2.508784e+06</td>\n",
              "      <td>2.508784e+06</td>\n",
              "      <td>2.508784e+06</td>\n",
              "      <td>664141.000000</td>\n",
              "      <td>2.508784e+06</td>\n",
              "      <td>2.508784e+06</td>\n",
              "    </tr>\n",
              "    <tr>\n",
              "      <th>mean</th>\n",
              "      <td>8.076858e-01</td>\n",
              "      <td>2.086643e-01</td>\n",
              "      <td>1.491682e+00</td>\n",
              "      <td>5.020743e-03</td>\n",
              "      <td>6.708475e+00</td>\n",
              "      <td>1.127729e+00</td>\n",
              "      <td>2.099070e+00</td>\n",
              "      <td>1.240186e+00</td>\n",
              "      <td>2.463639e+00</td>\n",
              "      <td>3.085880e-01</td>\n",
              "      <td>1.121529e+01</td>\n",
              "      <td>2.467225e+00</td>\n",
              "      <td>5.694316e-01</td>\n",
              "      <td>7.745038e-02</td>\n",
              "      <td>1.400443e+00</td>\n",
              "      <td>7.896621e-03</td>\n",
              "      <td>6.701864e+00</td>\n",
              "      <td>3.599559e-01</td>\n",
              "      <td>1.637258e+00</td>\n",
              "      <td>1.148316e+00</td>\n",
              "      <td>1.656985e+00</td>\n",
              "      <td>2.317022e-01</td>\n",
              "      <td>7.629292e+00</td>\n",
              "      <td>1.803057e+00</td>\n",
              "      <td>5.705360e-01</td>\n",
              "      <td>202.500016</td>\n",
              "      <td>2.459199e+00</td>\n",
              "      <td>6.899692e-01</td>\n",
              "    </tr>\n",
              "    <tr>\n",
              "      <th>std</th>\n",
              "      <td>2.345066e+00</td>\n",
              "      <td>1.035032e+00</td>\n",
              "      <td>3.735682e+00</td>\n",
              "      <td>2.681383e-02</td>\n",
              "      <td>1.673603e+01</td>\n",
              "      <td>5.960057e+00</td>\n",
              "      <td>3.812537e+00</td>\n",
              "      <td>2.774199e+00</td>\n",
              "      <td>4.353143e+00</td>\n",
              "      <td>7.452425e-01</td>\n",
              "      <td>1.939111e+01</td>\n",
              "      <td>7.834035e+00</td>\n",
              "      <td>1.812547e+00</td>\n",
              "      <td>5.275353e-01</td>\n",
              "      <td>3.645426e+00</td>\n",
              "      <td>2.884410e-02</td>\n",
              "      <td>1.675997e+01</td>\n",
              "      <td>2.807083e+00</td>\n",
              "      <td>3.375947e+00</td>\n",
              "      <td>2.673816e+00</td>\n",
              "      <td>3.324605e+00</td>\n",
              "      <td>5.438217e-01</td>\n",
              "      <td>1.490432e+01</td>\n",
              "      <td>5.750086e+00</td>\n",
              "      <td>4.179290e+00</td>\n",
              "      <td>1.708287</td>\n",
              "      <td>6.237921e+00</td>\n",
              "      <td>5.073026e+00</td>\n",
              "    </tr>\n",
              "    <tr>\n",
              "      <th>min</th>\n",
              "      <td>0.000000e+00</td>\n",
              "      <td>0.000000e+00</td>\n",
              "      <td>0.000000e+00</td>\n",
              "      <td>0.000000e+00</td>\n",
              "      <td>0.000000e+00</td>\n",
              "      <td>0.000000e+00</td>\n",
              "      <td>2.006257e-03</td>\n",
              "      <td>0.000000e+00</td>\n",
              "      <td>2.742816e-03</td>\n",
              "      <td>0.000000e+00</td>\n",
              "      <td>8.734387e-03</td>\n",
              "      <td>0.000000e+00</td>\n",
              "      <td>0.000000e+00</td>\n",
              "      <td>0.000000e+00</td>\n",
              "      <td>0.000000e+00</td>\n",
              "      <td>0.000000e+00</td>\n",
              "      <td>0.000000e+00</td>\n",
              "      <td>0.000000e+00</td>\n",
              "      <td>0.000000e+00</td>\n",
              "      <td>0.000000e+00</td>\n",
              "      <td>0.000000e+00</td>\n",
              "      <td>0.000000e+00</td>\n",
              "      <td>0.000000e+00</td>\n",
              "      <td>0.000000e+00</td>\n",
              "      <td>0.000000e+00</td>\n",
              "      <td>200.000000</td>\n",
              "      <td>0.000000e+00</td>\n",
              "      <td>0.000000e+00</td>\n",
              "    </tr>\n",
              "    <tr>\n",
              "      <th>25%</th>\n",
              "      <td>1.469648e-04</td>\n",
              "      <td>0.000000e+00</td>\n",
              "      <td>2.039305e-04</td>\n",
              "      <td>0.000000e+00</td>\n",
              "      <td>8.597541e-04</td>\n",
              "      <td>0.000000e+00</td>\n",
              "      <td>4.304230e-02</td>\n",
              "      <td>3.550086e-02</td>\n",
              "      <td>3.021539e-02</td>\n",
              "      <td>7.722604e-03</td>\n",
              "      <td>1.509848e-01</td>\n",
              "      <td>3.744477e-02</td>\n",
              "      <td>5.350206e-04</td>\n",
              "      <td>0.000000e+00</td>\n",
              "      <td>8.661010e-04</td>\n",
              "      <td>0.000000e+00</td>\n",
              "      <td>3.466685e-03</td>\n",
              "      <td>0.000000e+00</td>\n",
              "      <td>1.682062e-01</td>\n",
              "      <td>1.245330e-01</td>\n",
              "      <td>1.259744e-01</td>\n",
              "      <td>2.410859e-02</td>\n",
              "      <td>5.491057e-01</td>\n",
              "      <td>9.594096e-02</td>\n",
              "      <td>0.000000e+00</td>\n",
              "      <td>201.000000</td>\n",
              "      <td>7.727312e-02</td>\n",
              "      <td>0.000000e+00</td>\n",
              "    </tr>\n",
              "    <tr>\n",
              "      <th>50%</th>\n",
              "      <td>2.298143e-03</td>\n",
              "      <td>7.948978e-04</td>\n",
              "      <td>2.027149e-03</td>\n",
              "      <td>0.000000e+00</td>\n",
              "      <td>1.107237e-02</td>\n",
              "      <td>8.083251e-04</td>\n",
              "      <td>3.892553e-01</td>\n",
              "      <td>1.959924e-01</td>\n",
              "      <td>3.804404e-01</td>\n",
              "      <td>6.435571e-02</td>\n",
              "      <td>2.036706e+00</td>\n",
              "      <td>1.908192e-01</td>\n",
              "      <td>6.800752e-03</td>\n",
              "      <td>3.120125e-03</td>\n",
              "      <td>6.719478e-03</td>\n",
              "      <td>0.000000e+00</td>\n",
              "      <td>3.280409e-02</td>\n",
              "      <td>3.005112e-03</td>\n",
              "      <td>5.513352e-01</td>\n",
              "      <td>3.548320e-01</td>\n",
              "      <td>5.017860e-01</td>\n",
              "      <td>6.982174e-02</td>\n",
              "      <td>2.263134e+00</td>\n",
              "      <td>3.502988e-01</td>\n",
              "      <td>1.070771e-03</td>\n",
              "      <td>203.000000</td>\n",
              "      <td>5.575155e-01</td>\n",
              "      <td>1.698937e-03</td>\n",
              "    </tr>\n",
              "    <tr>\n",
              "      <th>75%</th>\n",
              "      <td>3.930881e-01</td>\n",
              "      <td>1.362733e-02</td>\n",
              "      <td>9.672931e-01</td>\n",
              "      <td>1.668067e-03</td>\n",
              "      <td>4.532737e+00</td>\n",
              "      <td>1.688280e-02</td>\n",
              "      <td>2.718152e+00</td>\n",
              "      <td>1.341537e+00</td>\n",
              "      <td>2.816320e+00</td>\n",
              "      <td>3.178461e-01</td>\n",
              "      <td>1.301789e+01</td>\n",
              "      <td>1.808318e+00</td>\n",
              "      <td>3.037478e-01</td>\n",
              "      <td>2.156877e-02</td>\n",
              "      <td>9.168443e-01</td>\n",
              "      <td>3.192542e-03</td>\n",
              "      <td>4.347933e+00</td>\n",
              "      <td>2.131486e-02</td>\n",
              "      <td>1.662670e+00</td>\n",
              "      <td>1.049403e+00</td>\n",
              "      <td>1.692484e+00</td>\n",
              "      <td>2.072833e-01</td>\n",
              "      <td>7.636422e+00</td>\n",
              "      <td>1.215743e+00</td>\n",
              "      <td>1.833517e-02</td>\n",
              "      <td>204.000000</td>\n",
              "      <td>2.239762e+00</td>\n",
              "      <td>2.089282e-02</td>\n",
              "    </tr>\n",
              "    <tr>\n",
              "      <th>max</th>\n",
              "      <td>2.861945e+01</td>\n",
              "      <td>2.251564e+01</td>\n",
              "      <td>3.398812e+01</td>\n",
              "      <td>7.040277e-01</td>\n",
              "      <td>1.000000e+02</td>\n",
              "      <td>1.000000e+02</td>\n",
              "      <td>4.969193e+01</td>\n",
              "      <td>4.431772e+01</td>\n",
              "      <td>3.288215e+01</td>\n",
              "      <td>1.550033e+01</td>\n",
              "      <td>1.000000e+02</td>\n",
              "      <td>1.000000e+02</td>\n",
              "      <td>3.218307e+01</td>\n",
              "      <td>1.590317e+01</td>\n",
              "      <td>3.533198e+01</td>\n",
              "      <td>6.190328e-01</td>\n",
              "      <td>1.000000e+02</td>\n",
              "      <td>6.304345e+01</td>\n",
              "      <td>3.933404e+01</td>\n",
              "      <td>3.842898e+01</td>\n",
              "      <td>3.410180e+01</td>\n",
              "      <td>8.647749e+00</td>\n",
              "      <td>1.000000e+02</td>\n",
              "      <td>1.000000e+02</td>\n",
              "      <td>1.000000e+02</td>\n",
              "      <td>205.000000</td>\n",
              "      <td>1.000000e+02</td>\n",
              "      <td>1.000000e+02</td>\n",
              "    </tr>\n",
              "  </tbody>\n",
              "</table>\n",
              "</div>"
            ],
            "text/plain": [
              "       target1_mean  target1_median  ...       target2       target3\n",
              "count  2.508784e+06    2.508784e+06  ...  2.508784e+06  2.508784e+06\n",
              "mean   8.076858e-01    2.086643e-01  ...  2.459199e+00  6.899692e-01\n",
              "std    2.345066e+00    1.035032e+00  ...  6.237921e+00  5.073026e+00\n",
              "min    0.000000e+00    0.000000e+00  ...  0.000000e+00  0.000000e+00\n",
              "25%    1.469648e-04    0.000000e+00  ...  7.727312e-02  0.000000e+00\n",
              "50%    2.298143e-03    7.948978e-04  ...  5.575155e-01  1.698937e-03\n",
              "75%    3.930881e-01    1.362733e-02  ...  2.239762e+00  2.089282e-02\n",
              "max    2.861945e+01    2.251564e+01  ...  1.000000e+02  1.000000e+02\n",
              "\n",
              "[8 rows x 28 columns]"
            ]
          },
          "metadata": {
            "tags": []
          },
          "execution_count": 44
        }
      ]
    },
    {
      "cell_type": "code",
      "metadata": {
        "id": "70LUMHqddn6f"
      },
      "source": [
        ""
      ],
      "id": "70LUMHqddn6f",
      "execution_count": 44,
      "outputs": []
    },
    {
      "cell_type": "code",
      "metadata": {
        "id": "vrevhu0a0MP0"
      },
      "source": [
        "train[\"stryear\"] = train[\"date\"].astype(str)\n",
        "train[\"year\"] = train[\"stryear\"].str[0:4].astype(int)"
      ],
      "id": "vrevhu0a0MP0",
      "execution_count": 45,
      "outputs": []
    },
    {
      "cell_type": "code",
      "metadata": {
        "id": "ViJ9Gl9aezst"
      },
      "source": [
        ""
      ],
      "id": "ViJ9Gl9aezst",
      "execution_count": 45,
      "outputs": []
    },
    {
      "cell_type": "code",
      "metadata": {
        "id": "2CkB9FJX3_Te"
      },
      "source": [
        "#make feature\n",
        "train[\"strdate\"] = train[\"date\"].astype(str)\n",
        "train[\"month\"] = train[\"strdate\"].str[5].astype(int)\n",
        "train[\"month\"]\n",
        "train[\"stryear\"] = train[\"date\"].astype(str)\n",
        "train[\"year\"] = train[\"stryear\"].str[0:4].astype(int)\n",
        "train[\"nullc\"] = train.isnull().sum(axis=1)"
      ],
      "id": "2CkB9FJX3_Te",
      "execution_count": 46,
      "outputs": []
    },
    {
      "cell_type": "code",
      "metadata": {
        "id": "adY9aY39Y2ez"
      },
      "source": [
        "del awards\n",
        "del scores\n",
        "del rosters\n",
        "del standings"
      ],
      "id": "adY9aY39Y2ez",
      "execution_count": 47,
      "outputs": []
    },
    {
      "cell_type": "code",
      "metadata": {
        "execution": {
          "iopub.execute_input": "2021-06-25T22:19:05.280987Z",
          "iopub.status.busy": "2021-06-25T22:19:05.280074Z",
          "iopub.status.idle": "2021-06-25T22:19:06.308927Z",
          "shell.execute_reply": "2021-06-25T22:19:06.308036Z",
          "shell.execute_reply.started": "2021-06-25T21:58:44.298952Z"
        },
        "papermill": {
          "duration": 1.157038,
          "end_time": "2021-06-25T22:19:06.309107",
          "exception": false,
          "start_time": "2021-06-25T22:19:05.152069",
          "status": "completed"
        },
        "tags": [],
        "id": "identified-resource"
      },
      "source": [
        ""
      ],
      "id": "identified-resource",
      "execution_count": 47,
      "outputs": []
    },
    {
      "cell_type": "code",
      "metadata": {
        "execution": {
          "iopub.execute_input": "2021-06-25T22:19:06.379223Z",
          "iopub.status.busy": "2021-06-25T22:19:06.378433Z",
          "iopub.status.idle": "2021-06-25T22:19:09.364865Z",
          "shell.execute_reply": "2021-06-25T22:19:09.364128Z",
          "shell.execute_reply.started": "2021-06-25T21:58:45.283486Z"
        },
        "papermill": {
          "duration": 3.0266,
          "end_time": "2021-06-25T22:19:09.365076",
          "exception": false,
          "start_time": "2021-06-25T22:19:06.338476",
          "status": "completed"
        },
        "tags": [],
        "id": "outstanding-spoke"
      },
      "source": [
        "# label encoding\n",
        "player2num = {c: i for i, c in enumerate(train['playerId'].unique())}\n",
        "position2num = {c: i for i, c in enumerate(train['primaryPositionName'].unique())}\n",
        "teamid2num = {c: i for i, c in enumerate(train['teamId'].unique())}\n",
        "status2num = {c: i for i, c in enumerate(train['status'].unique())}\n",
        "daynight2num = {c: i for i, c in enumerate(train['dayNight'].unique())}\n",
        "seriesDescription2num = {c: i for i, c in enumerate(train['seriesDescription'].unique())}\n",
        "gameType2num = {c: i for i, c in enumerate(train['gameType'].unique())}\n",
        "bitrhCountry2num = {c: i for i, c in enumerate(train[\"birthCountry\"].unique())}\n",
        "train['label_playerId'] = train['playerId'].map(player2num)\n",
        "train['label_primaryPositionName'] = train['primaryPositionName'].map(position2num)\n",
        "train['label_teamId'] = train['teamId'].map(teamid2num)\n",
        "train['label_status'] = train['status'].map(status2num)\n",
        "train[\"label_daynight\"] = train['dayNight'].map(daynight2num)\n",
        "train[\"label_seriesDescription\"] = train[\"seriesDescription\"].map(seriesDescription2num)\n",
        "train[\"birthCountry\"] = train[\"birthCountry\"].map(bitrhCountry2num)"
      ],
      "id": "outstanding-spoke",
      "execution_count": 48,
      "outputs": []
    },
    {
      "cell_type": "code",
      "metadata": {
        "id": "G3RKg8r9QpDf"
      },
      "source": [
        "#train.to_csv(\"/content/drive/MyDrive/mlb/script/output/train.csv\")"
      ],
      "id": "G3RKg8r9QpDf",
      "execution_count": 49,
      "outputs": []
    },
    {
      "cell_type": "code",
      "metadata": {
        "id": "SnLF5qfiaTAm"
      },
      "source": [
        ""
      ],
      "id": "SnLF5qfiaTAm",
      "execution_count": 49,
      "outputs": []
    },
    {
      "cell_type": "code",
      "metadata": {
        "execution": {
          "iopub.execute_input": "2021-06-25T22:19:09.441422Z",
          "iopub.status.busy": "2021-06-25T22:19:09.438428Z",
          "iopub.status.idle": "2021-06-25T22:19:17.553819Z",
          "shell.execute_reply": "2021-06-25T22:19:17.554566Z",
          "shell.execute_reply.started": "2021-06-25T21:58:48.179255Z"
        },
        "papermill": {
          "duration": 8.158299,
          "end_time": "2021-06-25T22:19:17.555101",
          "exception": false,
          "start_time": "2021-06-25T22:19:09.396802",
          "status": "completed"
        },
        "tags": [],
        "id": "negative-offset",
        "colab": {
          "base_uri": "https://localhost:8080/"
        },
        "outputId": "44c885a6-bdf1-4d88-a3fc-ed5354a8971c"
      },
      "source": [
        "train_X1 = train[feature_cols]\n",
        "train_X2 = train[feature_cols2]\n",
        "train_X3 = train[feature_cols3]\n",
        "train_X4 = train[feature_cols4]\n",
        "\n",
        "train_y = train[['target1', 'target2', 'target3', 'target4']]\n",
        "train_y2 = train[['target1', 'target2', 'target3', 'target4']]\n",
        "\n",
        "_index = (train['date'] < 20210401)\n",
        "gc.collect()\n",
        "\n",
        "\n",
        "x_train1 = train_X1.loc[_index].reset_index(drop=True)\n",
        "y_train = train_y.loc[_index].reset_index(drop=True)\n",
        "x_valid1 = train_X1.loc[~_index].reset_index(drop=True)\n",
        "y_valid = train_y.loc[~_index].reset_index(drop=True)\n",
        "\n",
        "y_train2 = train_y2.loc[_index].reset_index(drop=True)\n",
        "y_valid2 = train_y2.loc[~_index].reset_index(drop=True)\n",
        "\n",
        "x_train2 = train_X2.loc[_index].reset_index(drop=True)\n",
        "x_valid2 = train_X2.loc[~_index].reset_index(drop=True)\n",
        "x_train3 = train_X3.loc[_index].reset_index(drop=True)\n",
        "x_valid3 = train_X3.loc[~_index].reset_index(drop=True)\n",
        "x_train4 = train_X4.loc[_index].reset_index(drop=True)\n",
        "x_valid4 = train_X4.loc[~_index].reset_index(drop=True)\n",
        "\n",
        "del train_X1,train_X2,train_X3,train_X4\n",
        "gc.collect()"
      ],
      "id": "negative-offset",
      "execution_count": 50,
      "outputs": [
        {
          "output_type": "execute_result",
          "data": {
            "text/plain": [
              "0"
            ]
          },
          "metadata": {
            "tags": []
          },
          "execution_count": 50
        }
      ]
    },
    {
      "cell_type": "code",
      "metadata": {
        "execution": {
          "iopub.execute_input": "2021-06-25T22:19:17.614762Z",
          "iopub.status.busy": "2021-06-25T22:19:17.614054Z",
          "iopub.status.idle": "2021-06-25T22:19:17.624743Z",
          "shell.execute_reply": "2021-06-25T22:19:17.625239Z",
          "shell.execute_reply.started": "2021-06-25T21:58:57.444888Z"
        },
        "papermill": {
          "duration": 0.04094,
          "end_time": "2021-06-25T22:19:17.625445",
          "exception": false,
          "start_time": "2021-06-25T22:19:17.584505",
          "status": "completed"
        },
        "tags": [],
        "id": "sticky-stand",
        "colab": {
          "base_uri": "https://localhost:8080/"
        },
        "outputId": "3ac2dca1-352c-41d1-8237-4ce609e0c57c"
      },
      "source": [
        "def fit_lgbm(x_train, y_train, x_valid, y_valid, params: dict=None, verbose=100):\n",
        "    oof_pred = np.zeros(len(y_valid), dtype=np.float32)\n",
        "    #model = lgbm.LGBMRegressor(**params)\n",
        "    best_params, tuning_history = {}, []\n",
        "    \n",
        "    lgb_train = lgbm.Dataset(x_train, y_train)\n",
        "    lgb_eval = lgbm.Dataset(x_valid, y_valid, reference=lgb_train)\n",
        "    model = lgbm.train(params, \n",
        "        lgb_train, valid_sets=lgb_eval,  \n",
        "        early_stopping_rounds=100,\n",
        "        num_boost_round=500,\n",
        "        verbose_eval=100,\n",
        "        #verbose=verbose,               \n",
        "        )\n",
        "    oof_pred = model.predict(x_valid)\n",
        "    score = mean_absolute_error(oof_pred, y_valid)\n",
        "    print('mae:', score)\n",
        "    return oof_pred, model, score\n",
        "\n",
        "\n",
        "\n",
        "# training lightgbm\n",
        "\n",
        "params1 = {'objective':'mae','reg_alpha': 0.14947461820098767, 'reg_lambda': 0.10185644384043743, 'n_estimators': 3633, 'learning_rate': 0.08046301304430488, 'num_leaves': 674, 'feature_fraction': 0.9101240539122566, 'bagging_fraction': 0.9884451442950513, 'bagging_freq': 8, 'min_child_samples': 51}\n",
        "\n",
        "params2 = {\n",
        " 'objective':'mae',\n",
        " 'reg_alpha': 0.1,\n",
        " 'reg_lambda': 0.1, \n",
        " 'n_estimators': 5000,\n",
        " 'learning_rate': 0.1,\n",
        " 'random_state': 42,\n",
        " \"num_leaves\": 22\n",
        "}\n",
        "\n",
        "params4 = {'objective':'mae','reg_alpha': 0.016468100279441976, 'reg_lambda': 0.09128335764019105, 'n_estimators': 9868, 'learning_rate': 0.10528150510326864, 'num_leaves': 157, 'feature_fraction': 0.5419185713426886, 'bagging_fraction': 0.2637405128936662, 'bagging_freq': 19, 'min_child_samples': 71}\n",
        "\n",
        "\n",
        "params = {\n",
        " 'objective':'mae',\n",
        " 'reg_alpha': 0.1,\n",
        " 'reg_lambda': 0.1, \n",
        " 'n_estimators': 10000,\n",
        " 'learning_rate': 0.1,\n",
        " 'random_state': 42,\n",
        " \"num_leaves\": 100\n",
        "}\n",
        "\n",
        "\n",
        "oof1, model1, score1 = fit_lgbm(\n",
        "    x_train1, y_train['target1'],\n",
        "    x_valid1, y_valid['target1'],\n",
        "    params1\n",
        ")\n",
        "file = '/content/drive/MyDrive/mlb/script/output/model1.pkl'\n",
        "pickle.dump(model1, open(file, 'wb'))\n",
        "\n",
        "oof2, model2, score2 = fit_lgbm(\n",
        "    x_train2, y_train['target2'],\n",
        "    x_valid2, y_valid['target2'],\n",
        "    params2\n",
        ")\n",
        "file = '/content/drive/MyDrive/mlb/script/output/model2.pkl'\n",
        "pickle.dump(model2, open(file, 'wb'))\n",
        "oof3, model3, score3 = fit_lgbm(\n",
        "    x_train3, y_train['target3'],\n",
        "    x_valid3, y_valid['target3'],\n",
        "    params\n",
        ")\n",
        "file = '/content/drive/MyDrive/mlb/script/output/model3.pkl'\n",
        "pickle.dump(model3, open(file, 'wb'))\n",
        "oof4, model4, score4 = fit_lgbm(\n",
        "    x_train4, y_train2['target4'],\n",
        "    x_valid4, y_valid2['target4'],\n",
        "    params4\n",
        ")\n",
        "file = '/content/drive/MyDrive/mlb/script/output/model4.pkl'\n",
        "pickle.dump(model4, open(file, 'wb'))\n",
        "score = (score1+score2+score3+score4) / 4\n",
        "print(f'score: {score}')\n"
      ],
      "id": "sticky-stand",
      "execution_count": 51,
      "outputs": [
        {
          "output_type": "stream",
          "text": [
            "/usr/local/lib/python3.7/dist-packages/lightgbm/engine.py:118: UserWarning: Found `n_estimators` in params. Will use it instead of argument\n",
            "  warnings.warn(\"Found `{}` in params. Will use it instead of argument\".format(alias))\n"
          ],
          "name": "stderr"
        },
        {
          "output_type": "stream",
          "text": [
            "Training until validation scores don't improve for 100 rounds.\n",
            "[100]\tvalid_0's l1: 0.675621\n",
            "[200]\tvalid_0's l1: 0.674728\n",
            "[300]\tvalid_0's l1: 0.674421\n",
            "Early stopping, best iteration is:\n",
            "[249]\tvalid_0's l1: 0.674412\n",
            "mae: 0.6744124163175812\n"
          ],
          "name": "stdout"
        },
        {
          "output_type": "stream",
          "text": [
            "/usr/local/lib/python3.7/dist-packages/lightgbm/engine.py:118: UserWarning: Found `n_estimators` in params. Will use it instead of argument\n",
            "  warnings.warn(\"Found `{}` in params. Will use it instead of argument\".format(alias))\n"
          ],
          "name": "stderr"
        },
        {
          "output_type": "stream",
          "text": [
            "Training until validation scores don't improve for 100 rounds.\n",
            "[100]\tvalid_0's l1: 1.33819\n",
            "[200]\tvalid_0's l1: 1.33197\n",
            "[300]\tvalid_0's l1: 1.3314\n",
            "Early stopping, best iteration is:\n",
            "[241]\tvalid_0's l1: 1.33069\n",
            "mae: 1.3306902168046313\n"
          ],
          "name": "stdout"
        },
        {
          "output_type": "stream",
          "text": [
            "/usr/local/lib/python3.7/dist-packages/lightgbm/engine.py:118: UserWarning: Found `n_estimators` in params. Will use it instead of argument\n",
            "  warnings.warn(\"Found `{}` in params. Will use it instead of argument\".format(alias))\n"
          ],
          "name": "stderr"
        },
        {
          "output_type": "stream",
          "text": [
            "Training until validation scores don't improve for 100 rounds.\n",
            "[100]\tvalid_0's l1: 0.520672\n",
            "Early stopping, best iteration is:\n",
            "[78]\tvalid_0's l1: 0.520648\n",
            "mae: 0.5206477358519357\n"
          ],
          "name": "stdout"
        },
        {
          "output_type": "stream",
          "text": [
            "/usr/local/lib/python3.7/dist-packages/lightgbm/engine.py:118: UserWarning: Found `n_estimators` in params. Will use it instead of argument\n",
            "  warnings.warn(\"Found `{}` in params. Will use it instead of argument\".format(alias))\n"
          ],
          "name": "stderr"
        },
        {
          "output_type": "stream",
          "text": [
            "Training until validation scores don't improve for 100 rounds.\n",
            "[100]\tvalid_0's l1: 1.0083\n",
            "[200]\tvalid_0's l1: 1.00164\n",
            "[300]\tvalid_0's l1: 1.00103\n",
            "Early stopping, best iteration is:\n",
            "[285]\tvalid_0's l1: 1.00078\n",
            "mae: 1.0007753433712772\n",
            "score: 0.8816314280863563\n"
          ],
          "name": "stdout"
        }
      ]
    },
    {
      "cell_type": "code",
      "metadata": {
        "execution": {
          "iopub.execute_input": "2021-06-25T22:19:17.682673Z",
          "iopub.status.busy": "2021-06-25T22:19:17.681978Z",
          "iopub.status.idle": "2021-06-25T22:19:19.467296Z",
          "shell.execute_reply": "2021-06-25T22:19:19.467916Z",
          "shell.execute_reply.started": "2021-06-25T21:58:57.456212Z"
        },
        "papermill": {
          "duration": 1.81619,
          "end_time": "2021-06-25T22:19:19.468136",
          "exception": false,
          "start_time": "2021-06-25T22:19:17.651946",
          "status": "completed"
        },
        "tags": [],
        "id": "large-orlando",
        "colab": {
          "base_uri": "https://localhost:8080/",
          "height": 52
        },
        "outputId": "8007975f-66ed-45b9-b7bf-eda22a92f72e"
      },
      "source": [
        "\"\"\"\n",
        "model1 = pickle.load(open('../input/mymodels/model1.pkl', 'rb'))\n",
        "model2 = pickle.load(open('../input/mymodels/model2.pkl', 'rb'))\n",
        "model3 = pickle.load(open('../input/mymodels/model3.pkl', 'rb'))\n",
        "model4 = pickle.load(open('../input/mymodels/model4.pkl', 'rb'))\"\"\""
      ],
      "id": "large-orlando",
      "execution_count": 52,
      "outputs": [
        {
          "output_type": "execute_result",
          "data": {
            "application/vnd.google.colaboratory.intrinsic+json": {
              "type": "string"
            },
            "text/plain": [
              "\"\\nmodel1 = pickle.load(open('../input/mymodels/model1.pkl', 'rb'))\\nmodel2 = pickle.load(open('../input/mymodels/model2.pkl', 'rb'))\\nmodel3 = pickle.load(open('../input/mymodels/model3.pkl', 'rb'))\\nmodel4 = pickle.load(open('../input/mymodels/model4.pkl', 'rb'))\""
            ]
          },
          "metadata": {
            "tags": []
          },
          "execution_count": 52
        }
      ]
    },
    {
      "cell_type": "code",
      "metadata": {
        "id": "Bhgezne_yvqs",
        "colab": {
          "base_uri": "https://localhost:8080/",
          "height": 235
        },
        "outputId": "b2c7f648-fffa-4061-c70e-6036224bba35"
      },
      "source": [
        "importance = pd.DataFrame(model1.feature_importance(), index=feature_cols, columns=['importance'])\n",
        "pd.set_option('display.max_rows', 102)\n",
        "importance[importance[\"importance\"]==0]"
      ],
      "id": "Bhgezne_yvqs",
      "execution_count": 53,
      "outputs": [
        {
          "output_type": "execute_result",
          "data": {
            "text/html": [
              "<div>\n",
              "<style scoped>\n",
              "    .dataframe tbody tr th:only-of-type {\n",
              "        vertical-align: middle;\n",
              "    }\n",
              "\n",
              "    .dataframe tbody tr th {\n",
              "        vertical-align: top;\n",
              "    }\n",
              "\n",
              "    .dataframe thead th {\n",
              "        text-align: right;\n",
              "    }\n",
              "</style>\n",
              "<table border=\"1\" class=\"dataframe\">\n",
              "  <thead>\n",
              "    <tr style=\"text-align: right;\">\n",
              "      <th></th>\n",
              "      <th>importance</th>\n",
              "    </tr>\n",
              "  </thead>\n",
              "  <tbody>\n",
              "    <tr>\n",
              "      <th>caughtStealingPitching</th>\n",
              "      <td>0</td>\n",
              "    </tr>\n",
              "    <tr>\n",
              "      <th>stolenBasesPitching</th>\n",
              "      <td>0</td>\n",
              "    </tr>\n",
              "    <tr>\n",
              "      <th>hitBatsmen</th>\n",
              "      <td>0</td>\n",
              "    </tr>\n",
              "    <tr>\n",
              "      <th>wildPitches</th>\n",
              "      <td>0</td>\n",
              "    </tr>\n",
              "    <tr>\n",
              "      <th>pickoffsPitching</th>\n",
              "      <td>0</td>\n",
              "    </tr>\n",
              "    <tr>\n",
              "      <th>errors</th>\n",
              "      <td>0</td>\n",
              "    </tr>\n",
              "  </tbody>\n",
              "</table>\n",
              "</div>"
            ],
            "text/plain": [
              "                        importance\n",
              "caughtStealingPitching           0\n",
              "stolenBasesPitching              0\n",
              "hitBatsmen                       0\n",
              "wildPitches                      0\n",
              "pickoffsPitching                 0\n",
              "errors                           0"
            ]
          },
          "metadata": {
            "tags": []
          },
          "execution_count": 53
        }
      ]
    },
    {
      "cell_type": "code",
      "metadata": {
        "colab": {
          "base_uri": "https://localhost:8080/",
          "height": 204
        },
        "id": "l4YC6TYYVO05",
        "outputId": "98ee1bc5-5304-4f14-ea55-a003004feac2"
      },
      "source": [
        "importance = pd.DataFrame(model2.feature_importance(), index=feature_cols2, columns=['importance'])\n",
        "pd.set_option('display.max_rows', 102)\n",
        "importance[importance[\"importance\"]==0]"
      ],
      "id": "l4YC6TYYVO05",
      "execution_count": 54,
      "outputs": [
        {
          "output_type": "execute_result",
          "data": {
            "text/html": [
              "<div>\n",
              "<style scoped>\n",
              "    .dataframe tbody tr th:only-of-type {\n",
              "        vertical-align: middle;\n",
              "    }\n",
              "\n",
              "    .dataframe tbody tr th {\n",
              "        vertical-align: top;\n",
              "    }\n",
              "\n",
              "    .dataframe thead th {\n",
              "        text-align: right;\n",
              "    }\n",
              "</style>\n",
              "<table border=\"1\" class=\"dataframe\">\n",
              "  <thead>\n",
              "    <tr style=\"text-align: right;\">\n",
              "      <th></th>\n",
              "      <th>importance</th>\n",
              "    </tr>\n",
              "  </thead>\n",
              "  <tbody>\n",
              "    <tr>\n",
              "      <th>pickoffs</th>\n",
              "      <td>0</td>\n",
              "    </tr>\n",
              "    <tr>\n",
              "      <th>gamesStartedPitching</th>\n",
              "      <td>0</td>\n",
              "    </tr>\n",
              "    <tr>\n",
              "      <th>hitByPitchPitching</th>\n",
              "      <td>0</td>\n",
              "    </tr>\n",
              "    <tr>\n",
              "      <th>stolenBasesPitching</th>\n",
              "      <td>0</td>\n",
              "    </tr>\n",
              "    <tr>\n",
              "      <th>battersFaced</th>\n",
              "      <td>0</td>\n",
              "    </tr>\n",
              "  </tbody>\n",
              "</table>\n",
              "</div>"
            ],
            "text/plain": [
              "                      importance\n",
              "pickoffs                       0\n",
              "gamesStartedPitching           0\n",
              "hitByPitchPitching             0\n",
              "stolenBasesPitching            0\n",
              "battersFaced                   0"
            ]
          },
          "metadata": {
            "tags": []
          },
          "execution_count": 54
        }
      ]
    },
    {
      "cell_type": "code",
      "metadata": {
        "colab": {
          "base_uri": "https://localhost:8080/",
          "height": 80
        },
        "id": "P_bf_9KvVO91",
        "outputId": "98476433-0d77-4d53-8e7c-25d0f4bb8d83"
      },
      "source": [
        "importance = pd.DataFrame(model3.feature_importance(), index=feature_cols3, columns=['importance'])\n",
        "pd.set_option('display.max_rows', 102)\n",
        "importance[importance[\"importance\"]==0]"
      ],
      "id": "P_bf_9KvVO91",
      "execution_count": 55,
      "outputs": [
        {
          "output_type": "execute_result",
          "data": {
            "text/html": [
              "<div>\n",
              "<style scoped>\n",
              "    .dataframe tbody tr th:only-of-type {\n",
              "        vertical-align: middle;\n",
              "    }\n",
              "\n",
              "    .dataframe tbody tr th {\n",
              "        vertical-align: top;\n",
              "    }\n",
              "\n",
              "    .dataframe thead th {\n",
              "        text-align: right;\n",
              "    }\n",
              "</style>\n",
              "<table border=\"1\" class=\"dataframe\">\n",
              "  <thead>\n",
              "    <tr style=\"text-align: right;\">\n",
              "      <th></th>\n",
              "      <th>importance</th>\n",
              "    </tr>\n",
              "  </thead>\n",
              "  <tbody>\n",
              "    <tr>\n",
              "      <th>homeRuns</th>\n",
              "      <td>0</td>\n",
              "    </tr>\n",
              "  </tbody>\n",
              "</table>\n",
              "</div>"
            ],
            "text/plain": [
              "          importance\n",
              "homeRuns           0"
            ]
          },
          "metadata": {
            "tags": []
          },
          "execution_count": 55
        }
      ]
    },
    {
      "cell_type": "code",
      "metadata": {
        "colab": {
          "base_uri": "https://localhost:8080/",
          "height": 452
        },
        "id": "-BEHBrZoVsF7",
        "outputId": "3eb77a1e-3e74-4bee-a451-c309048d8bd7"
      },
      "source": [
        "importance = pd.DataFrame(model4.feature_importance(), index=feature_cols4, columns=['importance'])\n",
        "pd.set_option('display.max_rows', 102)\n",
        "importance[importance[\"importance\"]==0]"
      ],
      "id": "-BEHBrZoVsF7",
      "execution_count": 56,
      "outputs": [
        {
          "output_type": "execute_result",
          "data": {
            "text/html": [
              "<div>\n",
              "<style scoped>\n",
              "    .dataframe tbody tr th:only-of-type {\n",
              "        vertical-align: middle;\n",
              "    }\n",
              "\n",
              "    .dataframe tbody tr th {\n",
              "        vertical-align: top;\n",
              "    }\n",
              "\n",
              "    .dataframe thead th {\n",
              "        text-align: right;\n",
              "    }\n",
              "</style>\n",
              "<table border=\"1\" class=\"dataframe\">\n",
              "  <thead>\n",
              "    <tr style=\"text-align: right;\">\n",
              "      <th></th>\n",
              "      <th>importance</th>\n",
              "    </tr>\n",
              "  </thead>\n",
              "  <tbody>\n",
              "    <tr>\n",
              "      <th>baseOnBalls</th>\n",
              "      <td>0</td>\n",
              "    </tr>\n",
              "    <tr>\n",
              "      <th>caughtStealing</th>\n",
              "      <td>0</td>\n",
              "    </tr>\n",
              "    <tr>\n",
              "      <th>leftOnBase</th>\n",
              "      <td>0</td>\n",
              "    </tr>\n",
              "    <tr>\n",
              "      <th>sacBunts</th>\n",
              "      <td>0</td>\n",
              "    </tr>\n",
              "    <tr>\n",
              "      <th>gamesPlayedPitching</th>\n",
              "      <td>0</td>\n",
              "    </tr>\n",
              "    <tr>\n",
              "      <th>winsPitching</th>\n",
              "      <td>0</td>\n",
              "    </tr>\n",
              "    <tr>\n",
              "      <th>doublesPitching</th>\n",
              "      <td>0</td>\n",
              "    </tr>\n",
              "    <tr>\n",
              "      <th>homeRunsPitching</th>\n",
              "      <td>0</td>\n",
              "    </tr>\n",
              "    <tr>\n",
              "      <th>saveOpportunities</th>\n",
              "      <td>0</td>\n",
              "    </tr>\n",
              "    <tr>\n",
              "      <th>wildPitches</th>\n",
              "      <td>0</td>\n",
              "    </tr>\n",
              "    <tr>\n",
              "      <th>rbiPitching</th>\n",
              "      <td>0</td>\n",
              "    </tr>\n",
              "    <tr>\n",
              "      <th>sacBuntsPitching</th>\n",
              "      <td>0</td>\n",
              "    </tr>\n",
              "    <tr>\n",
              "      <th>errors</th>\n",
              "      <td>0</td>\n",
              "    </tr>\n",
              "  </tbody>\n",
              "</table>\n",
              "</div>"
            ],
            "text/plain": [
              "                     importance\n",
              "baseOnBalls                   0\n",
              "caughtStealing                0\n",
              "leftOnBase                    0\n",
              "sacBunts                      0\n",
              "gamesPlayedPitching           0\n",
              "winsPitching                  0\n",
              "doublesPitching               0\n",
              "homeRunsPitching              0\n",
              "saveOpportunities             0\n",
              "wildPitches                   0\n",
              "rbiPitching                   0\n",
              "sacBuntsPitching              0\n",
              "errors                        0"
            ]
          },
          "metadata": {
            "tags": []
          },
          "execution_count": 56
        }
      ]
    },
    {
      "cell_type": "code",
      "metadata": {
        "execution": {
          "iopub.execute_input": "2021-06-25T22:19:19.523599Z",
          "iopub.status.busy": "2021-06-25T22:19:19.522922Z",
          "iopub.status.idle": "2021-06-25T22:19:19.531732Z",
          "shell.execute_reply": "2021-06-25T22:19:19.532260Z",
          "shell.execute_reply.started": "2021-06-25T21:58:59.002054Z"
        },
        "papermill": {
          "duration": 0.038158,
          "end_time": "2021-06-25T22:19:19.532427",
          "exception": false,
          "start_time": "2021-06-25T22:19:19.494269",
          "status": "completed"
        },
        "tags": [],
        "id": "sensitive-establishment"
      },
      "source": [
        "players_cols = ['playerId', 'primaryPositionName']\n",
        "rosters_cols = ['playerId', 'teamId', 'status']\n",
        "scores_cols = ['playerId', 'battingOrder', 'gamesPlayedBatting', 'flyOuts',\n",
        "       'groundOuts', 'runsScored', 'doubles', 'triples', 'homeRuns',\n",
        "       'strikeOuts', 'baseOnBalls', 'intentionalWalks', 'hits', 'hitByPitch',\n",
        "       'atBats', 'caughtStealing', 'stolenBases', 'groundIntoDoublePlay',\n",
        "       'groundIntoTriplePlay', 'plateAppearances', 'totalBases', 'rbi',\n",
        "       'leftOnBase', 'sacBunts', 'sacFlies', 'catchersInterference',\n",
        "       'pickoffs', 'gamesPlayedPitching', 'gamesStartedPitching',\n",
        "       'completeGamesPitching', 'shutoutsPitching', 'winsPitching',\n",
        "       'lossesPitching', 'flyOutsPitching', 'airOutsPitching',\n",
        "       'groundOutsPitching', 'runsPitching', 'doublesPitching',\n",
        "       'triplesPitching', 'homeRunsPitching', 'strikeOutsPitching',\n",
        "       'baseOnBallsPitching', 'intentionalWalksPitching', 'hitsPitching',\n",
        "       'hitByPitchPitching', 'atBatsPitching', 'caughtStealingPitching',\n",
        "       'stolenBasesPitching', 'inningsPitched', 'saveOpportunities',\n",
        "       'earnedRuns', 'battersFaced', 'outsPitching', 'pitchesThrown', 'balls',\n",
        "       'strikes', 'hitBatsmen', 'balks', 'wildPitches', 'pickoffsPitching',\n",
        "       'rbiPitching', 'gamesFinishedPitching', 'inheritedRunners',\n",
        "       'inheritedRunnersScored', 'catchersInterferencePitching',\n",
        "       'sacBuntsPitching', 'sacFliesPitching', 'saves', 'holds', 'blownSaves',\n",
        "       'assists', 'putOuts', 'errors', 'chances']\n",
        "standings_cols = [\"teamId\",\"divisionRank\",\"divisionLeader\",\"wildCardLeader\",\"leagueRank\",\"divisionId\",\"gameDate\"]\n",
        "null = np.nan\n",
        "true = True\n",
        "false = False"
      ],
      "id": "sensitive-establishment",
      "execution_count": 57,
      "outputs": []
    },
    {
      "cell_type": "code",
      "metadata": {
        "execution": {
          "iopub.execute_input": "2021-06-25T22:19:19.604016Z",
          "iopub.status.busy": "2021-06-25T22:19:19.598864Z",
          "iopub.status.idle": "2021-06-25T22:23:45.296062Z",
          "shell.execute_reply": "2021-06-25T22:23:45.295267Z",
          "shell.execute_reply.started": "2021-06-25T21:58:59.015564Z"
        },
        "papermill": {
          "duration": 265.737683,
          "end_time": "2021-06-25T22:23:45.296307",
          "exception": false,
          "start_time": "2021-06-25T22:19:19.558624",
          "status": "completed"
        },
        "tags": [],
        "id": "hundred-thunder",
        "colab": {
          "base_uri": "https://localhost:8080/",
          "height": 447
        },
        "outputId": "4e27c0d5-b0e2-468c-8978-92075a264caf"
      },
      "source": [
        "import pandas as pd\n",
        "import numpy as np\n",
        "from datetime import timedelta\n",
        "from tqdm import tqdm\n",
        "import gc\n",
        "from functools import reduce\n",
        "from sklearn.model_selection import StratifiedKFold\n",
        "\n",
        "ROOT_DIR = \"../input/mlb-player-digital-engagement-forecasting\"\n",
        "\n",
        "#=======================#\n",
        "def flatten(df, col):\n",
        "    du = (df.pivot(index=\"playerId\", columns=\"EvalDate\", \n",
        "               values=col).add_prefix(f\"{col}_\").\n",
        "      rename_axis(None, axis=1).reset_index())\n",
        "    return du\n",
        "#============================#\n",
        "def reducer(left, right):\n",
        "    return left.merge(right, on=\"playerId\")\n",
        "#========================\n",
        "\n",
        "TGTCOLS = [\"target1\",\"target2\",\"target3\",\"target4\"]\n",
        "def train_lag(df, lag=1):\n",
        "    dp = df[[\"playerId\",\"EvalDate\"]+TGTCOLS].copy()\n",
        "    dp[\"EvalDate\"]  =dp[\"EvalDate\"] + timedelta(days=lag) \n",
        "    df = df.merge(dp, on=[\"playerId\", \"EvalDate\"], suffixes=[\"\",f\"_{lag}\"], how=\"left\")\n",
        "    return df\n",
        "#=================================\n",
        "def test_lag(sub):\n",
        "    sub[\"playerId\"] = sub[\"date_playerId\"].apply(lambda s: int(  s.split(\"_\")[1]  ) )\n",
        "    assert sub.date.nunique() == 1\n",
        "    dte = sub[\"date\"].unique()[0]\n",
        "    \n",
        "    eval_dt = pd.to_datetime(dte, format=\"%Y%m%d\")\n",
        "    dtes = [eval_dt + timedelta(days=-k) for k in LAGS]\n",
        "    mp_dtes = {eval_dt + timedelta(days=-k):k for k in LAGS}\n",
        "    \n",
        "    sl = LAST.loc[LAST.EvalDate.between(dtes[-1], dtes[0]), [\"EvalDate\",\"playerId\"]+TGTCOLS].copy()\n",
        "    sl[\"EvalDate\"] = sl[\"EvalDate\"].map(mp_dtes)\n",
        "    du = [flatten(sl, col) for col in TGTCOLS]\n",
        "    du = reduce(reducer, du)\n",
        "    return du, eval_dt\n",
        "    #\n",
        "#===============\n",
        "\n",
        "tr = pd.read_csv(\"../input/mlb-data/target.csv\")\n",
        "print(tr.shape)\n",
        "gc.collect()\n",
        "\n",
        "tr[\"EvalDate\"] = pd.to_datetime(tr[\"EvalDate\"])\n",
        "tr[\"EvalDate\"] = tr[\"EvalDate\"] + timedelta(days=-1)\n",
        "tr[\"EvalYear\"] = tr[\"EvalDate\"].dt.year\n",
        "\n",
        "MED_DF = tr.groupby([\"playerId\",\"EvalYear\"])[TGTCOLS].median().reset_index()\n",
        "MEDCOLS = [\"tgt1_med\",\"tgt2_med\", \"tgt3_med\", \"tgt4_med\"]\n",
        "MED_DF.columns = [\"playerId\",\"EvalYear\"] + MEDCOLS\n",
        "\n",
        "LAGS = list(range(1,21))\n",
        "FECOLS = [f\"{col}_{lag}\" for lag in reversed(LAGS) for col in TGTCOLS]\n",
        "\n",
        "for lag in tqdm(LAGS):\n",
        "    tr = train_lag(tr, lag=lag)\n",
        "    gc.collect()\n",
        "#===========\n",
        "tr = tr.sort_values(by=[\"playerId\", \"EvalDate\"])\n",
        "print(tr.shape)\n",
        "tr = tr.dropna()\n",
        "print(tr.shape)\n",
        "tr = tr.merge(MED_DF, on=[\"playerId\",\"EvalYear\"])\n",
        "gc.collect()\n",
        "\n",
        "X = tr[FECOLS+MEDCOLS].values\n",
        "y = tr[TGTCOLS].values\n",
        "cl = tr[\"playerId\"].values\n",
        "\n",
        "NFOLDS = 6\n",
        "skf = StratifiedKFold(n_splits=NFOLDS)\n",
        "folds = skf.split(X, cl)\n",
        "folds = list(folds)\n",
        "\n",
        "import tensorflow as tf\n",
        "import tensorflow.keras.layers as L\n",
        "import tensorflow.keras.models as M\n",
        "from sklearn.metrics import mean_absolute_error, mean_squared_error\n",
        "from tensorflow.keras.callbacks import ModelCheckpoint, ReduceLROnPlateau, EarlyStopping\n",
        "\n",
        "tf.random.set_seed(777)\n",
        "\n",
        "def make_model(n_in):\n",
        "    inp = L.Input(name=\"inputs\", shape=(n_in,))\n",
        "    x = L.Dense(50, activation=\"relu\", name=\"d1\")(inp)\n",
        "    x = L.Dense(50, activation=\"relu\", name=\"d2\")(x)\n",
        "    preds = L.Dense(4, activation=\"linear\", name=\"preds\")(x)\n",
        "    \n",
        "    model = M.Model(inp, preds, name=\"ANN\")\n",
        "    model.compile(loss=\"mean_absolute_error\", optimizer=\"adam\")\n",
        "    return model\n",
        "\n",
        "net = make_model(X.shape[1])\n",
        "print(net.summary())\n",
        "\n",
        "oof = np.zeros(y.shape)\n",
        "nets = []\n",
        "for idx in range(NFOLDS):\n",
        "    print(\"FOLD:\", idx)\n",
        "    tr_idx, val_idx = folds[idx]\n",
        "    ckpt = ModelCheckpoint(f\"w{idx}.h5\", monitor='val_loss', verbose=1, save_best_only=True,mode='min')\n",
        "    reduce_lr = ReduceLROnPlateau(monitor='val_loss', factor=0.2,patience=3, min_lr=0.0005)\n",
        "    es = EarlyStopping(monitor='val_loss', patience=6)\n",
        "    reg = make_model(X.shape[1])\n",
        "    reg.fit(X[tr_idx], y[tr_idx], epochs=10, batch_size=35_000, validation_data=(X[val_idx], y[val_idx]),\n",
        "            verbose=1, callbacks=[ckpt, reduce_lr, es])\n",
        "    reg.load_weights(f\"w{idx}.h5\")\n",
        "    oof[val_idx] = reg.predict(X[val_idx], batch_size=50_000, verbose=1)\n",
        "    nets.append(reg)\n",
        "    gc.collect()\n",
        "    #\n",
        "#\n",
        "\n",
        "mae = mean_absolute_error(y, oof)\n",
        "mse = mean_squared_error(y, oof, squared=False)\n",
        "print(\"mae:\", mae)\n",
        "print(\"mse:\", mse)\n",
        "\n",
        "# Historical information to use in prediction time\n",
        "bound_dt = pd.to_datetime(\"2021-01-01\")\n",
        "LAST = tr.loc[tr.EvalDate>bound_dt].copy()\n",
        "\n",
        "LAST_MED_DF = MED_DF.loc[MED_DF.EvalYear==2021].copy()\n",
        "LAST_MED_DF.drop(\"EvalYear\", axis=1, inplace=True)\n",
        "del tr\n",
        "\n",
        "#\"\"\"\n",
        "import mlb\n",
        "FE = []; SUB = [];"
      ],
      "id": "hundred-thunder",
      "execution_count": 58,
      "outputs": [
        {
          "output_type": "error",
          "ename": "FileNotFoundError",
          "evalue": "ignored",
          "traceback": [
            "\u001b[0;31m---------------------------------------------------------------------------\u001b[0m",
            "\u001b[0;31mFileNotFoundError\u001b[0m                         Traceback (most recent call last)",
            "\u001b[0;32m<ipython-input-58-248adacbd808>\u001b[0m in \u001b[0;36m<module>\u001b[0;34m()\u001b[0m\n\u001b[1;32m     44\u001b[0m \u001b[0;31m#===============\u001b[0m\u001b[0;34m\u001b[0m\u001b[0;34m\u001b[0m\u001b[0;34m\u001b[0m\u001b[0m\n\u001b[1;32m     45\u001b[0m \u001b[0;34m\u001b[0m\u001b[0m\n\u001b[0;32m---> 46\u001b[0;31m \u001b[0mtr\u001b[0m \u001b[0;34m=\u001b[0m \u001b[0mpd\u001b[0m\u001b[0;34m.\u001b[0m\u001b[0mread_csv\u001b[0m\u001b[0;34m(\u001b[0m\u001b[0;34m\"../input/mlb-data/target.csv\"\u001b[0m\u001b[0;34m)\u001b[0m\u001b[0;34m\u001b[0m\u001b[0;34m\u001b[0m\u001b[0m\n\u001b[0m\u001b[1;32m     47\u001b[0m \u001b[0mprint\u001b[0m\u001b[0;34m(\u001b[0m\u001b[0mtr\u001b[0m\u001b[0;34m.\u001b[0m\u001b[0mshape\u001b[0m\u001b[0;34m)\u001b[0m\u001b[0;34m\u001b[0m\u001b[0;34m\u001b[0m\u001b[0m\n\u001b[1;32m     48\u001b[0m \u001b[0mgc\u001b[0m\u001b[0;34m.\u001b[0m\u001b[0mcollect\u001b[0m\u001b[0;34m(\u001b[0m\u001b[0;34m)\u001b[0m\u001b[0;34m\u001b[0m\u001b[0;34m\u001b[0m\u001b[0m\n",
            "\u001b[0;32m/usr/local/lib/python3.7/dist-packages/pandas/io/parsers.py\u001b[0m in \u001b[0;36mread_csv\u001b[0;34m(filepath_or_buffer, sep, delimiter, header, names, index_col, usecols, squeeze, prefix, mangle_dupe_cols, dtype, engine, converters, true_values, false_values, skipinitialspace, skiprows, skipfooter, nrows, na_values, keep_default_na, na_filter, verbose, skip_blank_lines, parse_dates, infer_datetime_format, keep_date_col, date_parser, dayfirst, cache_dates, iterator, chunksize, compression, thousands, decimal, lineterminator, quotechar, quoting, doublequote, escapechar, comment, encoding, dialect, error_bad_lines, warn_bad_lines, delim_whitespace, low_memory, memory_map, float_precision)\u001b[0m\n\u001b[1;32m    686\u001b[0m     )\n\u001b[1;32m    687\u001b[0m \u001b[0;34m\u001b[0m\u001b[0m\n\u001b[0;32m--> 688\u001b[0;31m     \u001b[0;32mreturn\u001b[0m \u001b[0m_read\u001b[0m\u001b[0;34m(\u001b[0m\u001b[0mfilepath_or_buffer\u001b[0m\u001b[0;34m,\u001b[0m \u001b[0mkwds\u001b[0m\u001b[0;34m)\u001b[0m\u001b[0;34m\u001b[0m\u001b[0;34m\u001b[0m\u001b[0m\n\u001b[0m\u001b[1;32m    689\u001b[0m \u001b[0;34m\u001b[0m\u001b[0m\n\u001b[1;32m    690\u001b[0m \u001b[0;34m\u001b[0m\u001b[0m\n",
            "\u001b[0;32m/usr/local/lib/python3.7/dist-packages/pandas/io/parsers.py\u001b[0m in \u001b[0;36m_read\u001b[0;34m(filepath_or_buffer, kwds)\u001b[0m\n\u001b[1;32m    452\u001b[0m \u001b[0;34m\u001b[0m\u001b[0m\n\u001b[1;32m    453\u001b[0m     \u001b[0;31m# Create the parser.\u001b[0m\u001b[0;34m\u001b[0m\u001b[0;34m\u001b[0m\u001b[0;34m\u001b[0m\u001b[0m\n\u001b[0;32m--> 454\u001b[0;31m     \u001b[0mparser\u001b[0m \u001b[0;34m=\u001b[0m \u001b[0mTextFileReader\u001b[0m\u001b[0;34m(\u001b[0m\u001b[0mfp_or_buf\u001b[0m\u001b[0;34m,\u001b[0m \u001b[0;34m**\u001b[0m\u001b[0mkwds\u001b[0m\u001b[0;34m)\u001b[0m\u001b[0;34m\u001b[0m\u001b[0;34m\u001b[0m\u001b[0m\n\u001b[0m\u001b[1;32m    455\u001b[0m \u001b[0;34m\u001b[0m\u001b[0m\n\u001b[1;32m    456\u001b[0m     \u001b[0;32mif\u001b[0m \u001b[0mchunksize\u001b[0m \u001b[0;32mor\u001b[0m \u001b[0miterator\u001b[0m\u001b[0;34m:\u001b[0m\u001b[0;34m\u001b[0m\u001b[0;34m\u001b[0m\u001b[0m\n",
            "\u001b[0;32m/usr/local/lib/python3.7/dist-packages/pandas/io/parsers.py\u001b[0m in \u001b[0;36m__init__\u001b[0;34m(self, f, engine, **kwds)\u001b[0m\n\u001b[1;32m    946\u001b[0m             \u001b[0mself\u001b[0m\u001b[0;34m.\u001b[0m\u001b[0moptions\u001b[0m\u001b[0;34m[\u001b[0m\u001b[0;34m\"has_index_names\"\u001b[0m\u001b[0;34m]\u001b[0m \u001b[0;34m=\u001b[0m \u001b[0mkwds\u001b[0m\u001b[0;34m[\u001b[0m\u001b[0;34m\"has_index_names\"\u001b[0m\u001b[0;34m]\u001b[0m\u001b[0;34m\u001b[0m\u001b[0;34m\u001b[0m\u001b[0m\n\u001b[1;32m    947\u001b[0m \u001b[0;34m\u001b[0m\u001b[0m\n\u001b[0;32m--> 948\u001b[0;31m         \u001b[0mself\u001b[0m\u001b[0;34m.\u001b[0m\u001b[0m_make_engine\u001b[0m\u001b[0;34m(\u001b[0m\u001b[0mself\u001b[0m\u001b[0;34m.\u001b[0m\u001b[0mengine\u001b[0m\u001b[0;34m)\u001b[0m\u001b[0;34m\u001b[0m\u001b[0;34m\u001b[0m\u001b[0m\n\u001b[0m\u001b[1;32m    949\u001b[0m \u001b[0;34m\u001b[0m\u001b[0m\n\u001b[1;32m    950\u001b[0m     \u001b[0;32mdef\u001b[0m \u001b[0mclose\u001b[0m\u001b[0;34m(\u001b[0m\u001b[0mself\u001b[0m\u001b[0;34m)\u001b[0m\u001b[0;34m:\u001b[0m\u001b[0;34m\u001b[0m\u001b[0;34m\u001b[0m\u001b[0m\n",
            "\u001b[0;32m/usr/local/lib/python3.7/dist-packages/pandas/io/parsers.py\u001b[0m in \u001b[0;36m_make_engine\u001b[0;34m(self, engine)\u001b[0m\n\u001b[1;32m   1178\u001b[0m     \u001b[0;32mdef\u001b[0m \u001b[0m_make_engine\u001b[0m\u001b[0;34m(\u001b[0m\u001b[0mself\u001b[0m\u001b[0;34m,\u001b[0m \u001b[0mengine\u001b[0m\u001b[0;34m=\u001b[0m\u001b[0;34m\"c\"\u001b[0m\u001b[0;34m)\u001b[0m\u001b[0;34m:\u001b[0m\u001b[0;34m\u001b[0m\u001b[0;34m\u001b[0m\u001b[0m\n\u001b[1;32m   1179\u001b[0m         \u001b[0;32mif\u001b[0m \u001b[0mengine\u001b[0m \u001b[0;34m==\u001b[0m \u001b[0;34m\"c\"\u001b[0m\u001b[0;34m:\u001b[0m\u001b[0;34m\u001b[0m\u001b[0;34m\u001b[0m\u001b[0m\n\u001b[0;32m-> 1180\u001b[0;31m             \u001b[0mself\u001b[0m\u001b[0;34m.\u001b[0m\u001b[0m_engine\u001b[0m \u001b[0;34m=\u001b[0m \u001b[0mCParserWrapper\u001b[0m\u001b[0;34m(\u001b[0m\u001b[0mself\u001b[0m\u001b[0;34m.\u001b[0m\u001b[0mf\u001b[0m\u001b[0;34m,\u001b[0m \u001b[0;34m**\u001b[0m\u001b[0mself\u001b[0m\u001b[0;34m.\u001b[0m\u001b[0moptions\u001b[0m\u001b[0;34m)\u001b[0m\u001b[0;34m\u001b[0m\u001b[0;34m\u001b[0m\u001b[0m\n\u001b[0m\u001b[1;32m   1181\u001b[0m         \u001b[0;32melse\u001b[0m\u001b[0;34m:\u001b[0m\u001b[0;34m\u001b[0m\u001b[0;34m\u001b[0m\u001b[0m\n\u001b[1;32m   1182\u001b[0m             \u001b[0;32mif\u001b[0m \u001b[0mengine\u001b[0m \u001b[0;34m==\u001b[0m \u001b[0;34m\"python\"\u001b[0m\u001b[0;34m:\u001b[0m\u001b[0;34m\u001b[0m\u001b[0;34m\u001b[0m\u001b[0m\n",
            "\u001b[0;32m/usr/local/lib/python3.7/dist-packages/pandas/io/parsers.py\u001b[0m in \u001b[0;36m__init__\u001b[0;34m(self, src, **kwds)\u001b[0m\n\u001b[1;32m   2008\u001b[0m         \u001b[0mkwds\u001b[0m\u001b[0;34m[\u001b[0m\u001b[0;34m\"usecols\"\u001b[0m\u001b[0;34m]\u001b[0m \u001b[0;34m=\u001b[0m \u001b[0mself\u001b[0m\u001b[0;34m.\u001b[0m\u001b[0musecols\u001b[0m\u001b[0;34m\u001b[0m\u001b[0;34m\u001b[0m\u001b[0m\n\u001b[1;32m   2009\u001b[0m \u001b[0;34m\u001b[0m\u001b[0m\n\u001b[0;32m-> 2010\u001b[0;31m         \u001b[0mself\u001b[0m\u001b[0;34m.\u001b[0m\u001b[0m_reader\u001b[0m \u001b[0;34m=\u001b[0m \u001b[0mparsers\u001b[0m\u001b[0;34m.\u001b[0m\u001b[0mTextReader\u001b[0m\u001b[0;34m(\u001b[0m\u001b[0msrc\u001b[0m\u001b[0;34m,\u001b[0m \u001b[0;34m**\u001b[0m\u001b[0mkwds\u001b[0m\u001b[0;34m)\u001b[0m\u001b[0;34m\u001b[0m\u001b[0;34m\u001b[0m\u001b[0m\n\u001b[0m\u001b[1;32m   2011\u001b[0m         \u001b[0mself\u001b[0m\u001b[0;34m.\u001b[0m\u001b[0munnamed_cols\u001b[0m \u001b[0;34m=\u001b[0m \u001b[0mself\u001b[0m\u001b[0;34m.\u001b[0m\u001b[0m_reader\u001b[0m\u001b[0;34m.\u001b[0m\u001b[0munnamed_cols\u001b[0m\u001b[0;34m\u001b[0m\u001b[0;34m\u001b[0m\u001b[0m\n\u001b[1;32m   2012\u001b[0m \u001b[0;34m\u001b[0m\u001b[0m\n",
            "\u001b[0;32mpandas/_libs/parsers.pyx\u001b[0m in \u001b[0;36mpandas._libs.parsers.TextReader.__cinit__\u001b[0;34m()\u001b[0m\n",
            "\u001b[0;32mpandas/_libs/parsers.pyx\u001b[0m in \u001b[0;36mpandas._libs.parsers.TextReader._setup_parser_source\u001b[0;34m()\u001b[0m\n",
            "\u001b[0;31mFileNotFoundError\u001b[0m: [Errno 2] No such file or directory: '../input/mlb-data/target.csv'"
          ]
        }
      ]
    },
    {
      "cell_type": "code",
      "metadata": {
        "id": "K1VLUowOyspF"
      },
      "source": [
        ""
      ],
      "id": "K1VLUowOyspF",
      "execution_count": null,
      "outputs": []
    },
    {
      "cell_type": "markdown",
      "metadata": {
        "papermill": {
          "duration": 0.643124,
          "end_time": "2021-06-25T22:23:46.587799",
          "exception": false,
          "start_time": "2021-06-25T22:23:45.944675",
          "status": "completed"
        },
        "tags": [],
        "id": "defined-colors"
      },
      "source": [
        "## Inference"
      ],
      "id": "defined-colors"
    },
    {
      "cell_type": "code",
      "metadata": {
        "execution": {
          "iopub.execute_input": "2021-06-25T22:23:47.872922Z",
          "iopub.status.busy": "2021-06-25T22:23:47.871916Z",
          "iopub.status.idle": "2021-06-25T22:23:47.875718Z",
          "shell.execute_reply": "2021-06-25T22:23:47.875029Z",
          "shell.execute_reply.started": "2021-06-25T22:03:06.318592Z"
        },
        "papermill": {
          "duration": 0.649231,
          "end_time": "2021-06-25T22:23:47.875889",
          "exception": false,
          "start_time": "2021-06-25T22:23:47.226658",
          "status": "completed"
        },
        "tags": [],
        "id": "classified-cooper"
      },
      "source": [
        "def unpack_json(json_str):\n",
        "    return np.nan if pd.isna(json_str) else pd.read_json(json_str)"
      ],
      "id": "classified-cooper",
      "execution_count": null,
      "outputs": []
    },
    {
      "cell_type": "code",
      "metadata": {
        "execution": {
          "iopub.execute_input": "2021-06-25T22:23:49.244729Z",
          "iopub.status.busy": "2021-06-25T22:23:49.243737Z",
          "iopub.status.idle": "2021-06-25T22:23:49.248381Z",
          "shell.execute_reply": "2021-06-25T22:23:49.247718Z",
          "shell.execute_reply.started": "2021-06-25T22:03:06.324648Z"
        },
        "papermill": {
          "duration": 0.652999,
          "end_time": "2021-06-25T22:23:49.248559",
          "exception": false,
          "start_time": "2021-06-25T22:23:48.595560",
          "status": "completed"
        },
        "tags": [],
        "id": "electoral-tribute"
      },
      "source": [
        "\"\"\"players_cols = ['playerId', 'primaryPositionName']\n",
        "rosters_cols = ['playerId', 'teamId', 'status']\n",
        "scores_cols = ['playerId', 'battingOrder', 'gamesPlayedBatting', 'flyOuts',\n",
        "       'groundOuts', 'runsScored', 'doubles', 'triples', 'homeRuns',\n",
        "       'strikeOuts', 'baseOnBalls', 'intentionalWalks', 'hits', 'hitByPitch',\n",
        "       'atBats', 'caughtStealing', 'stolenBases', 'groundIntoDoublePlay',\n",
        "       'groundIntoTriplePlay', 'plateAppearances', 'totalBases', 'rbi',\n",
        "       'leftOnBase', 'sacBunts', 'sacFlies', 'catchersInterference',\n",
        "       'pickoffs', 'gamesPlayedPitching', 'gamesStartedPitching',\n",
        "       'completeGamesPitching', 'shutoutsPitching', 'winsPitching',\n",
        "       'lossesPitching', 'flyOutsPitching', 'airOutsPitching',\n",
        "       'groundOutsPitching', 'runsPitching', 'doublesPitching',\n",
        "       'triplesPitching', 'homeRunsPitching', 'strikeOutsPitching',\n",
        "       'baseOnBallsPitching', 'intentionalWalksPitching', 'hitsPitching',\n",
        "       'hitByPitchPitching', 'atBatsPitching', 'caughtStealingPitching',\n",
        "       'stolenBasesPitching', 'inningsPitched', 'saveOpportunities',\n",
        "       'earnedRuns', 'battersFaced', 'outsPitching', 'pitchesThrown', 'balls',\n",
        "       'strikes', 'hitBatsmen', 'balks', 'wildPitches', 'pickoffsPitching',\n",
        "       'rbiPitching', 'gamesFinishedPitching', 'inheritedRunners',\n",
        "       'inheritedRunnersScored', 'catchersInterferencePitching',\n",
        "       'sacBuntsPitching', 'sacFliesPitching', 'saves', 'holds', 'blownSaves',\n",
        "       'assists', 'putOuts', 'errors', 'chances']\n",
        "\n",
        "null = np.nan\n",
        "true = True\n",
        "false = False\"\"\""
      ],
      "id": "electoral-tribute",
      "execution_count": null,
      "outputs": []
    },
    {
      "cell_type": "code",
      "metadata": {
        "execution": {
          "iopub.execute_input": "2021-06-25T22:23:50.567106Z",
          "iopub.status.busy": "2021-06-25T22:23:50.561703Z",
          "iopub.status.idle": "2021-06-25T22:24:01.199513Z",
          "shell.execute_reply": "2021-06-25T22:24:01.198747Z",
          "shell.execute_reply.started": "2021-06-25T22:03:06.3406Z"
        },
        "papermill": {
          "duration": 11.293137,
          "end_time": "2021-06-25T22:24:01.199706",
          "exception": false,
          "start_time": "2021-06-25T22:23:49.906569",
          "status": "completed"
        },
        "tags": [],
        "id": "thousand-comfort"
      },
      "source": [
        "\"\"\"players_cols = ['playerId', 'primaryPositionName']\n",
        "rosters_cols = ['playerId', 'teamId', 'status']\n",
        "scores_cols = ['playerId', 'battingOrder', 'gamesPlayedBatting', 'flyOuts',\n",
        "       'groundOuts', 'runsScored', 'doubles', 'triples', 'homeRuns',\n",
        "       'strikeOuts', 'baseOnBalls', 'intentionalWalks', 'hits', 'hitByPitch',\n",
        "       'atBats', 'caughtStealing', 'stolenBases', 'groundIntoDoublePlay',\n",
        "       'groundIntoTriplePlay', 'plateAppearances', 'totalBases', 'rbi',\n",
        "       'leftOnBase', 'sacBunts', 'sacFlies', 'catchersInterference',\n",
        "       'pickoffs', 'gamesPlayedPitching', 'gamesStartedPitching',\n",
        "       'completeGamesPitching', 'shutoutsPitching', 'winsPitching',\n",
        "       'lossesPitching', 'flyOutsPitching', 'airOutsPitching',\n",
        "       'groundOutsPitching', 'runsPitching', 'doublesPitching',\n",
        "       'triplesPitching', 'homeRunsPitching', 'strikeOutsPitching',\n",
        "       'baseOnBallsPitching', 'intentionalWalksPitching', 'hitsPitching',\n",
        "       'hitByPitchPitching', 'atBatsPitching', 'caughtStealingPitching',\n",
        "       'stolenBasesPitching', 'inningsPitched', 'saveOpportunities',\n",
        "       'earnedRuns', 'battersFaced', 'outsPitching', 'pitchesThrown', 'balls',\n",
        "       'strikes', 'hitBatsmen', 'balks', 'wildPitches', 'pickoffsPitching',\n",
        "       'rbiPitching', 'gamesFinishedPitching', 'inheritedRunners',\n",
        "       'inheritedRunnersScored', 'catchersInterferencePitching',\n",
        "       'sacBuntsPitching', 'sacFliesPitching', 'saves', 'holds', 'blownSaves',\n",
        "       'assists', 'putOuts', 'errors', 'chances',\"gamePk\"]\n",
        "\n",
        "null = np.nan\n",
        "true = True\n",
        "false = False\n",
        "\n",
        "env = mlb.make_env() # initialize the environment\n",
        "iter_test = env.iter_test() # iterator which loops over each date in test set\n",
        "\n",
        "for (test_df, sample_prediction_df) in iter_test: # make predictions here\n",
        "    \n",
        "    sub = copy.deepcopy(sample_prediction_df.reset_index())\n",
        "    sample_prediction_df = copy.deepcopy(sample_prediction_df.reset_index(drop=True))\n",
        "    \n",
        "    \n",
        "    # creat dataset\n",
        "    sample_prediction_df['playerId'] = sample_prediction_df['date_playerId']\\\n",
        "                                        .map(lambda x: int(x.split('_')[1]))\n",
        "    # Dealing with missing values\n",
        "    if test_df['rosters'].iloc[0] == test_df['rosters'].iloc[0]:\n",
        "        test_rosters = pd.DataFrame(eval(test_df['rosters'].iloc[0]))\n",
        "    else:\n",
        "        test_rosters = pd.DataFrame({'playerId': sample_prediction_df['playerId']})\n",
        "        for col in rosters.columns:\n",
        "            if col == 'playerId': continue\n",
        "            test_rosters[col] = np.nan\n",
        "            \n",
        "    if test_df['playerBoxScores'].iloc[0] == test_df['playerBoxScores'].iloc[0]:\n",
        "        test_scores = pd.DataFrame(eval(test_df['playerBoxScores'].iloc[0]))\n",
        "    else:\n",
        "        test_scores = pd.DataFrame({'playerId': sample_prediction_df['playerId']})\n",
        "        for col in scores.columns:\n",
        "            if col == 'playerId': continue\n",
        "            test_scores[col] = np.nan\n",
        "    \n",
        "    test_games = unpack_json(test_df[\"games\"].iloc[0])\n",
        "    test_standings = unpack_json(test_df[\"standings\"].iloc[0])\n",
        "    \n",
        "            \n",
        "            \n",
        "    \n",
        "\n",
        "    \n",
        "\n",
        "\n",
        "\n",
        "        \n",
        "    test_scores = test_scores.groupby('playerId').sum().reset_index()\n",
        "    test = sample_prediction_df[['playerId']].copy()\n",
        "    test = test.merge(players[players_cols], on='playerId', how='left')\n",
        "    test = test.merge(test_rosters[rosters_cols], on='playerId', how='left')\n",
        "    test = test.merge(test_scores[scores_cols], on='playerId', how='left')\n",
        "    test = test.merge(test_games[games_cols], on=\"gamePk\", how=\"left\")\n",
        "    test = test.merge(awards2[awards_cols], on=['playerId'], how='left')\n",
        "    test = test.merge(player_target_stats, how='inner', left_on=[\"playerId\"],right_on=[\"playerId\"])\n",
        "    test = test.merge(test_standings[standings_cols], on=[\"teamId\"], how='left')\n",
        "    \n",
        "    #add feature\n",
        "    test[\"ongame\"] = np.where(test[\"gamePk\"].isnull() == 1,0,1)\n",
        "    test[\"ishome\"] = np.where(test[\"teamId\"]==test[\"homeId\"],2,test[\"ongame\"])\n",
        "    test[\"winorlose\"] = np.where(test[\"teamId\"]==test[\"homeId\"],test[\"homeWinner\"],test[\"awayWinner\"])\n",
        "    test[\"winorlose\"] = test[\"winorlose\"].fillna(2.0).astype(int)\n",
        "    test[\"score\"] = np.where(test[\"teamId\"]==test[\"homeId\"],test[\"homeScore\"],test[\"awayScore\"])\n",
        "    test[\"divisionRank\"] = test[\"divisionRank\"].fillna(7.0).astype(int)\n",
        "    test[\"divisionLeader\"] = test[\"divisionLeader\"].fillna(-1.0).astype(int)\n",
        "    test[\"wildCardLeader\"] = np.where(test[\"wildCardLeader\"]==\"True\",1,0)\n",
        "    \n",
        "    \n",
        "    \n",
        "    \n",
        "    #label encoding\n",
        "    test['label_playerId'] = test['playerId'].map(player2num)\n",
        "    test['label_primaryPositionName'] = test['primaryPositionName'].map(position2num)\n",
        "    test['label_teamId'] = test['teamId'].map(teamid2num)\n",
        "    test['label_status'] = test['status'].map(status2num)\n",
        "    test[\"label_daynight\"] = test['dayNight'].map(daynight2num)\n",
        "    test[\"label_seriesDescription\"] = test[\"seriesDescription\"].map(seriesDescription2num)\n",
        "    test[\"gameType\"] = test[\"gameType\"].map(gameType2num)\n",
        "    display(test)\n",
        "    \n",
        "    \n",
        "    test_X1 = test[feature_cols1]\n",
        "    test_X2 = test[feature_cols2]\n",
        "    test_X3 = test[feature_cols3]\n",
        "    test_X4 = test[feature_cols4]\n",
        "    \n",
        "    # predict\n",
        "    pred1 = model1.predict(test_X1)\n",
        "    pred2 = model2.predict(test_X2)\n",
        "    pred3 = model3.predict(test_X3)\n",
        "    pred4 = model4.predict(test_X4)\n",
        "    \n",
        "    # merge submission\n",
        "    sample_prediction_df['target1'] = np.clip(pred1, 0, 100)\n",
        "    sample_prediction_df['target2'] = np.clip(pred2, 0, 100)\n",
        "    sample_prediction_df['target3'] = np.clip(pred3, 0, 100)\n",
        "    sample_prediction_df['target4'] = np.clip(pred4, 0, 100)\n",
        "    sample_prediction_df = sample_prediction_df.fillna(0.)\n",
        "    del sample_prediction_df['playerId']\n",
        "    \n",
        "    # TF summit\n",
        "    # Features computation at Evaluation Date\n",
        "    sub_fe, eval_dt = test_lag(sub)\n",
        "    sub_fe = sub_fe.merge(LAST_MED_DF, on=\"playerId\", how=\"left\")\n",
        "    sub_fe = sub_fe.fillna(0.)\n",
        "    \n",
        "    _preds = 0.\n",
        "    for reg in nets:\n",
        "        _preds += reg.predict(sub_fe[FECOLS + MEDCOLS]) / NFOLDS\n",
        "    sub_fe[TGTCOLS] = np.clip(_preds, 0, 100)\n",
        "    sub.drop([\"date\"]+TGTCOLS, axis=1, inplace=True)\n",
        "    sub = sub.merge(sub_fe[[\"playerId\"]+TGTCOLS], on=\"playerId\", how=\"left\")\n",
        "    sub.drop(\"playerId\", axis=1, inplace=True)\n",
        "    sub = sub.fillna(0.)\n",
        "    # Blending\n",
        "    blend = pd.concat(\n",
        "        [sub[['date_playerId']],\n",
        "        (0.1*sub.drop('date_playerId', axis=1) + 0.9*sample_prediction_df.drop('date_playerId', axis=1))],\n",
        "        axis=1\n",
        "    )\n",
        "    env.predict(blend)\n",
        "    # Update Available information\n",
        "    sub_fe[\"EvalDate\"] = eval_dt\n",
        "    #sub_fe.drop(MEDCOLS, axis=1, inplace=True)\n",
        "    LAST = LAST.append(sub_fe)\n",
        "    LAST = LAST.drop_duplicates(subset=[\"EvalDate\",\"playerId\"], keep=\"last\")\"\"\""
      ],
      "id": "thousand-comfort",
      "execution_count": null,
      "outputs": []
    },
    {
      "cell_type": "code",
      "metadata": {
        "execution": {
          "iopub.execute_input": "2021-06-25T22:24:02.554240Z",
          "iopub.status.busy": "2021-06-25T22:24:02.553286Z",
          "iopub.status.idle": "2021-06-25T22:24:02.557808Z",
          "shell.execute_reply": "2021-06-25T22:24:02.557241Z"
        },
        "papermill": {
          "duration": 0.688226,
          "end_time": "2021-06-25T22:24:02.557998",
          "exception": false,
          "start_time": "2021-06-25T22:24:01.869772",
          "status": "completed"
        },
        "tags": [],
        "id": "brief-palmer"
      },
      "source": [
        "display(test_df['games'])"
      ],
      "id": "brief-palmer",
      "execution_count": null,
      "outputs": []
    },
    {
      "cell_type": "code",
      "metadata": {
        "execution": {
          "iopub.execute_input": "2021-06-25T22:24:03.891241Z",
          "iopub.status.busy": "2021-06-25T22:24:03.890528Z",
          "iopub.status.idle": "2021-06-25T22:24:03.893839Z",
          "shell.execute_reply": "2021-06-25T22:24:03.893065Z"
        },
        "papermill": {
          "duration": 0.657564,
          "end_time": "2021-06-25T22:24:03.894025",
          "exception": false,
          "start_time": "2021-06-25T22:24:03.236461",
          "status": "completed"
        },
        "tags": [],
        "id": "partial-morning"
      },
      "source": [
        "def unpack_json(json_str):\n",
        "    return np.nan if pd.isna(json_str) else pd.read_json(json_str)"
      ],
      "id": "partial-morning",
      "execution_count": null,
      "outputs": []
    },
    {
      "cell_type": "code",
      "metadata": {
        "execution": {
          "iopub.execute_input": "2021-06-25T22:24:05.315595Z",
          "iopub.status.busy": "2021-06-25T22:24:05.314919Z",
          "iopub.status.idle": "2021-06-25T22:24:05.325682Z",
          "shell.execute_reply": "2021-06-25T22:24:05.325144Z"
        },
        "papermill": {
          "duration": 0.761079,
          "end_time": "2021-06-25T22:24:05.325843",
          "exception": false,
          "start_time": "2021-06-25T22:24:04.564764",
          "status": "completed"
        },
        "tags": [],
        "id": "smoking-discretion"
      },
      "source": [
        "unpack_json(test_df[\"games\"].iloc[0])"
      ],
      "id": "smoking-discretion",
      "execution_count": null,
      "outputs": []
    },
    {
      "cell_type": "code",
      "metadata": {
        "execution": {
          "iopub.execute_input": "2021-06-25T22:24:06.665554Z",
          "iopub.status.busy": "2021-06-25T22:24:06.663884Z",
          "iopub.status.idle": "2021-06-25T22:24:06.679898Z",
          "shell.execute_reply": "2021-06-25T22:24:06.679341Z"
        },
        "papermill": {
          "duration": 0.692076,
          "end_time": "2021-06-25T22:24:06.680048",
          "exception": false,
          "start_time": "2021-06-25T22:24:05.987972",
          "status": "completed"
        },
        "tags": [],
        "id": "talented-generic"
      },
      "source": [
        "pd.concat(\n",
        "    [sub[['date_playerId']],\n",
        "    (sub.drop('date_playerId', axis=1) + sample_prediction_df.drop('date_playerId', axis=1)) / 2],\n",
        "    axis=1\n",
        ")"
      ],
      "id": "talented-generic",
      "execution_count": null,
      "outputs": []
    },
    {
      "cell_type": "code",
      "metadata": {
        "execution": {
          "iopub.execute_input": "2021-06-25T22:24:08.007421Z",
          "iopub.status.busy": "2021-06-25T22:24:08.006746Z",
          "iopub.status.idle": "2021-06-25T22:24:08.009957Z",
          "shell.execute_reply": "2021-06-25T22:24:08.010404Z"
        },
        "papermill": {
          "duration": 0.679239,
          "end_time": "2021-06-25T22:24:08.010626",
          "exception": false,
          "start_time": "2021-06-25T22:24:07.331387",
          "status": "completed"
        },
        "tags": [],
        "id": "vertical-ethernet"
      },
      "source": [
        "sample_prediction_df"
      ],
      "id": "vertical-ethernet",
      "execution_count": null,
      "outputs": []
    }
  ]
}